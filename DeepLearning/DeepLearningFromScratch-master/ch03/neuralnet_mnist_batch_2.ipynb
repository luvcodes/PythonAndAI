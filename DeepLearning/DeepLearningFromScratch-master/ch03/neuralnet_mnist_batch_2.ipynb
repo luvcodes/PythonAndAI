{
 "cells": [
  {
   "cell_type": "markdown",
   "id": "3c3222cb",
   "metadata": {},
   "source": [
    "# 手写MNIST - batch批处理方式实现"
   ]
  },
  {
   "cell_type": "code",
   "execution_count": 1,
   "id": "b6ef45b9",
   "metadata": {},
   "outputs": [],
   "source": [
    "# coding: utf-8\n",
    "import sys, os\n",
    "sys.path.append(os.pardir)  # 为了导入父目录的文件而进行的设定\n",
    "import numpy as np\n",
    "import pickle\n",
    "from dataset.mnist import load_mnist\n",
    "from common.functions import sigmoid, softmax"
   ]
  },
  {
   "cell_type": "code",
   "execution_count": 4,
   "id": "6296115e",
   "metadata": {},
   "outputs": [],
   "source": [
    "def get_data():\n",
    "    (x_train, t_train), (x_test, t_test) = load_mnist(normalize=True, flatten=True, one_hot_label=False)\n",
    "    return x_test, t_test\n",
    "\n",
    "\n",
    "def init_network():\n",
    "    file_path = os.path.abspath(\"./sample_weight.pkl\")\n",
    "    with open(file_path, 'rb') as f:\n",
    "        network = pickle.load(f)\n",
    "    return network\n",
    "\n",
    "\n",
    "def predict(network, x):\n",
    "    w1, w2, w3 = network['W1'], network['W2'], network['W3']\n",
    "    b1, b2, b3 = network['b1'], network['b2'], network['b3']\n",
    "\n",
    "    a1 = np.dot(x, w1) + b1\n",
    "    z1 = sigmoid(a1)\n",
    "    a2 = np.dot(z1, w2) + b2\n",
    "    z2 = sigmoid(a2)\n",
    "    a3 = np.dot(z2, w3) + b3\n",
    "    y = softmax(a3)\n",
    "\n",
    "    return y"
   ]
  },
  {
   "cell_type": "markdown",
   "id": "58406362",
   "metadata": {},
   "source": [
    "在机器学习中，我们通常不会一次只处理一张图片，因为效率太低。我们会把多张图片（例如 100 张）打包成一个“批次（Batch）”，然后一次性送入网络进行计算。这个 100 就是批次大小 (Batch Size)。"
   ]
  },
  {
   "cell_type": "code",
   "execution_count": null,
   "id": "51edd0f1",
   "metadata": {},
   "outputs": [
    {
     "name": "stdout",
     "output_type": "stream",
     "text": [
      "Accuracy:0.0937\n"
     ]
    }
   ],
   "source": [
    "# x是测试数据，t是测试数据对应的标签\n",
    "# network是神经网络初始化\n",
    "x, t = get_data()\n",
    "network = init_network()\n",
    "\n",
    "batch_size = 100 # 批数量\n",
    "accuracy_cnt = 0\n",
    "\n",
    "# len(x)是测试数据的数量，batch_size是批数量，range(0, len(x), batch_size)\n",
    "# 会生成0, 100, 200, 300, 400, 500, 600, 700, 800, 900\n",
    "for i in range(0, len(x), batch_size):\n",
    "    x_batch = x[i:i+batch_size]\n",
    "    y_batch = predict(network, x_batch)\n",
    "    # argmax函数会返回数组中最大值的索引，axis=1表示按行（水平方向）进行比较, 也就是说每一行找到最大值的索引，\n",
    "    # 然后返回一个数组，数组中每个元素是每一行最大值的索引\n",
    "    p = np.argmax(y_batch, axis=1)\n",
    "    # 比较预测值和真实值，如果相等，则加1\n",
    "    # 在NumPy数组之间使用比较运算符（==）生成由True/False构成的布尔型数组，并计算True的个数。\n",
    "    accuracy_cnt += np.sum(p == t[i:i+batch_size])\n",
    "\n",
    "print(\"Accuracy:\" + str(float(accuracy_cnt) / len(x)))"
   ]
  }
 ],
 "metadata": {
  "kernelspec": {
   "display_name": "base",
   "language": "python",
   "name": "python3"
  },
  "language_info": {
   "codemirror_mode": {
    "name": "ipython",
    "version": 3
   },
   "file_extension": ".py",
   "mimetype": "text/x-python",
   "name": "python",
   "nbconvert_exporter": "python",
   "pygments_lexer": "ipython3",
   "version": "3.12.7"
  }
 },
 "nbformat": 4,
 "nbformat_minor": 5
}
