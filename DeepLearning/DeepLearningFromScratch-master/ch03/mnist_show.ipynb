{
 "cells": [
  {
   "cell_type": "markdown",
   "id": "8c9c04c2",
   "metadata": {},
   "source": [
    "# 手写MNIST"
   ]
  },
  {
   "cell_type": "code",
   "execution_count": 5,
   "id": "e40755c5",
   "metadata": {},
   "outputs": [],
   "source": [
    "# coding: utf-8\n",
    "import sys\n",
    "import os\n",
    "sys.path.append(os.pardir)  # 为了导入父目录的文件而进行的设定\n",
    "from dataset.mnist import load_mnist\n",
    "import numpy as np\n",
    "from PIL import Image"
   ]
  },
  {
   "cell_type": "code",
   "execution_count": 6,
   "id": "acd0c4fb",
   "metadata": {},
   "outputs": [],
   "source": [
    "def img_show(img):\n",
    "    pil_img = Image.fromarray(np.uint8(img))\n",
    "    pil_img.show()"
   ]
  },
  {
   "cell_type": "code",
   "execution_count": 7,
   "id": "b089d6ab",
   "metadata": {},
   "outputs": [
    {
     "name": "stdout",
     "output_type": "stream",
     "text": [
      "(60000, 784)\n",
      "(60000,)\n",
      "(10000, 784)\n",
      "(10000,)\n"
     ]
    }
   ],
   "source": [
    "(x_train, t_train), (x_test, t_test) = load_mnist(flatten=True, normalize=False)\n",
    "\n",
    "# 输出各个数据的形状\n",
    "print(x_train.shape)  # (60000, 784)\n",
    "print(t_train.shape)  # (60000,)\n",
    "print(x_test.shape)  # (10000, 784)\n",
    "print(t_test.shape)  # (10000,)"
   ]
  },
  {
   "cell_type": "markdown",
   "id": "b647f6bb",
   "metadata": {},
   "source": [
    "## 展示图像\n",
    "获取第一个图像"
   ]
  },
  {
   "cell_type": "code",
   "execution_count": 8,
   "id": "556139a8",
   "metadata": {},
   "outputs": [
    {
     "name": "stdout",
     "output_type": "stream",
     "text": [
      "9\n"
     ]
    }
   ],
   "source": [
    "img = x_train[0] # 获取第一个图像\n",
    "label = t_train[0] # 获取第一个图像的标签\n",
    "print(label)  # 5"
   ]
  },
  {
   "cell_type": "markdown",
   "id": "94cff33f",
   "metadata": {},
   "source": [
    "这里需要注意的是，`flatten=True`时读入的图像是以一列（一维）NumPy数组的形式保存的。因此，显示图像时，需要把它变为原来的28像素×28像素的形状。   \n",
    "可以通过`reshape()`方法的参数指定期望的形状，更改NumPy数组的形状。   \n",
    "此外，还需要把保存为NumPy数组的图像数据转换为PIL用的数据对象，这个转换处理由`Image.fromarray()`来完成。"
   ]
  },
  {
   "cell_type": "code",
   "execution_count": 10,
   "id": "49130533",
   "metadata": {},
   "outputs": [
    {
     "name": "stdout",
     "output_type": "stream",
     "text": [
      "(28, 28)\n",
      "(28, 28)\n"
     ]
    }
   ],
   "source": [
    "print(img.shape)  # (784,)\n",
    "img = img.reshape(28, 28)  # 把图像的形状变为原来的尺寸\n",
    "print(img.shape)  # (28, 28)\n",
    "\n",
    "# 展示图像，使用img_show函数\n",
    "img_show(img)"
   ]
  }
 ],
 "metadata": {
  "kernelspec": {
   "display_name": "base",
   "language": "python",
   "name": "python3"
  },
  "language_info": {
   "codemirror_mode": {
    "name": "ipython",
    "version": 3
   },
   "file_extension": ".py",
   "mimetype": "text/x-python",
   "name": "python",
   "nbconvert_exporter": "python",
   "pygments_lexer": "ipython3",
   "version": "3.12.7"
  }
 },
 "nbformat": 4,
 "nbformat_minor": 5
}
