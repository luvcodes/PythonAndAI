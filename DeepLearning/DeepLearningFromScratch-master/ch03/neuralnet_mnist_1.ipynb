{
 "cells": [
  {
   "cell_type": "markdown",
   "id": "da8a3c71",
   "metadata": {},
   "source": [
    "# 手写MNIST"
   ]
  },
  {
   "cell_type": "markdown",
   "id": "48538a9f",
   "metadata": {},
   "source": [
    "神经网络的输入层有784个神经元，输出层有10个神经元。输入层的784这个数字来源于图像大小的28×28=784，输出层的10这个数字来源于10类别分类（数字0到9，共10类别）。   \n",
    "此外，这个神经网络有2个隐藏层，**第1个隐藏层有50个神经元，第2个隐藏层有100个神经元**。   \n",
    "> 这个50和100可以设置为任何值。"
   ]
  },
  {
   "cell_type": "code",
   "execution_count": 3,
   "id": "89154a20",
   "metadata": {},
   "outputs": [],
   "source": [
    "# coding: utf-8\n",
    "import sys, os\n",
    "sys.path.append(os.pardir)  # 为了导入父目录的文件而进行的设定\n",
    "from dataset.mnist import load_mnist\n",
    "import numpy as np\n",
    "import pickle\n",
    "from dataset.mnist import load_mnist\n",
    "from common.functions import sigmoid, softmax"
   ]
  },
  {
   "cell_type": "markdown",
   "id": "18b3335f",
   "metadata": {},
   "source": [
    "`init_network()`会读入保存在pickle文件`sample_weight.pkl`中的学习到的权重参数A。这个文件中以**字典变量**的形式保存了权重和偏置参数。"
   ]
  },
  {
   "cell_type": "code",
   "execution_count": 4,
   "id": "907b67ab",
   "metadata": {},
   "outputs": [],
   "source": [
    "def get_data():\n",
    "    (x_train, t_train), (x_test, t_test) = load_mnist(normalize=True, flatten=True, one_hot_label=False)\n",
    "    return x_test, t_test\n",
    "\n",
    "def init_network():\n",
    "    file_path = os.path.abspath(\"./sample_weight.pkl\")\n",
    "    with open(file_path, 'rb') as f:\n",
    "        network = pickle.load(f)\n",
    "    return network\n",
    "\n",
    "# 分类函数进行预测\n",
    "def predict(network, x):\n",
    "    W1, W2, W3 = network['W1'], network['W2'], network['W3']\n",
    "    b1, b2, b3 = network['b1'], network['b2'], network['b3']\n",
    "\n",
    "    # 前向传播\n",
    "    a1 = np.dot(x, W1) + b1\n",
    "    z1 = sigmoid(a1)\n",
    "    a2 = np.dot(z1, W2) + b2\n",
    "    z2 = sigmoid(a2)\n",
    "    a3 = np.dot(z2, W3) + b3\n",
    "\n",
    "    # 输出层，softmax函数以NumPy数组的形式输出各个标签对应的概率\n",
    "    y = softmax(a3)\n",
    "\n",
    "    return y"
   ]
  },
  {
   "cell_type": "code",
   "execution_count": null,
   "id": "c0c09a3c",
   "metadata": {},
   "outputs": [
    {
     "name": "stdout",
     "output_type": "stream",
     "text": [
      "Accuracy:0.0937\n"
     ]
    }
   ],
   "source": [
    "x, t = get_data() # 获取测试数据\n",
    "network = init_network() # 初始化网络\n",
    "accuracy_cnt = 0 # \n",
    "\n",
    "# 对每个图像进行预测\n",
    "for i in range(len(x)):\n",
    "    y = predict(network, x[i])\n",
    "    p= np.argmax(y) # 获取概率最高的元素的索引，取出这个概率列表中的最大值的索引（第几个元素的概率最高）\n",
    "    if p == t[i]:\n",
    "        accuracy_cnt += 1\n",
    "\n",
    "print(\"Accuracy:\" + str(float(accuracy_cnt) / len(x)))"
   ]
  },
  {
   "cell_type": "markdown",
   "id": "ff2c1a5d",
   "metadata": {},
   "source": [
    "解释变量x以及权重的形状"
   ]
  },
  {
   "cell_type": "code",
   "execution_count": 9,
   "id": "8551fb95",
   "metadata": {},
   "outputs": [
    {
     "name": "stdout",
     "output_type": "stream",
     "text": [
      "x.shape: (10000, 784)\n",
      "x[0].shape: (784,)\n",
      "W1.shape: (784, 50)\n",
      "b1.shape: (50,)\n",
      "W2.shape: (50, 100)\n",
      "b2.shape: (100,)\n",
      "W3.shape: (100, 10)\n",
      "b3.shape: (10,)\n"
     ]
    }
   ],
   "source": [
    "x, t = get_data()\n",
    "network = init_network()\n",
    "W1, W2, W3 = network['W1'], network['W2'], network['W3']\n",
    "b1, b2, b3 = network['b1'], network['b2'], network['b3']\n",
    "\n",
    "print(\"x.shape:\", x.shape)\n",
    "print(\"x[0].shape:\", x[0].shape) # 这是因为x[0]是第一行测试数据，有784维\n",
    "print(\"W1.shape:\", W1.shape)\n",
    "print(\"b1.shape:\", b1.shape)\n",
    "print(\"W2.shape:\", W2.shape)\n",
    "print(\"b2.shape:\", b2.shape)\n",
    "print(\"W3.shape:\", W3.shape)\n",
    "print(\"b3.shape:\", b3.shape)"
   ]
  }
 ],
 "metadata": {
  "kernelspec": {
   "display_name": "base",
   "language": "python",
   "name": "python3"
  },
  "language_info": {
   "codemirror_mode": {
    "name": "ipython",
    "version": 3
   },
   "file_extension": ".py",
   "mimetype": "text/x-python",
   "name": "python",
   "nbconvert_exporter": "python",
   "pygments_lexer": "ipython3",
   "version": "3.12.7"
  }
 },
 "nbformat": 4,
 "nbformat_minor": 5
}
