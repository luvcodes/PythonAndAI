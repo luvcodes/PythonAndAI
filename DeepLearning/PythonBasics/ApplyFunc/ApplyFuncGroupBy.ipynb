{
 "cells": [
  {
   "cell_type": "markdown",
   "metadata": {},
   "source": [
    "# Apply Function Groupby"
   ]
  },
  {
   "cell_type": "code",
   "execution_count": 1,
   "metadata": {},
   "outputs": [],
   "source": [
    "import pandas as pd\n",
    "\n",
    "# 创建示例DataFrame\n",
    "data = {\n",
    "    'department': ['Sales', 'Sales', 'HR', 'HR', 'Tech', 'Tech'],\n",
    "    'employee': ['Alice', 'Bob', 'Charlie', 'David', 'Eva', 'Frank'],\n",
    "    'salary': [70000, 80000, 50000, 55000, 90000, 95000]\n",
    "}\n",
    "\n",
    "df = pd.DataFrame(data)"
   ]
  },
  {
   "cell_type": "markdown",
   "metadata": {},
   "source": [
    "## 返回多个值"
   ]
  },
  {
   "cell_type": "code",
   "execution_count": null,
   "metadata": {},
   "outputs": [
    {
     "name": "stdout",
     "output_type": "stream",
     "text": [
      "department\n",
      "HR       (52500.0, 55000)\n",
      "Sales    (75000.0, 80000)\n",
      "Tech     (92500.0, 95000)\n",
      "dtype: object\n"
     ]
    }
   ],
   "source": [
    "# 使用groupby().apply()计算每个部门的平均工资和最高工资\n",
    "def salary_summary(group):\n",
    "    avg_salary = group['salary'].mean()\n",
    "    max_salary = group['salary'].max()\n",
    "    # 返回多个值的时候使用pd.Series，返回单个值的时候直接返回\n",
    "    return pd.Series({'Average Salary': avg_salary, 'Highest Salary': max_salary})\n",
    "    # return avg_salary, max_salary\n",
    "    # return list(avg_salary, max_salary)\n",
    "\n",
    "summary_df = df.groupby('department').apply(salary_summary)\n",
    "\n",
    "print(summary_df)"
   ]
  },
  {
   "cell_type": "markdown",
   "metadata": {},
   "source": [
    "这里如果不用pd.Series返回多个值，而直接写成return avg_salary, max_salary，会返回一个元组。这使得结果不太方便进一步分析，比如无法直接调用 `result[\"Average Salary\"]` 或 `result[\"Highest Salary\"]`。   \n",
    "department   \n",
    "HR       (52500.0, 55000)   \n",
    "Sales    (75000.0, 80000)   \n",
    "Tech     (92500.0, 95000)   \n",
    "dtype: object   \n",
    "\n",
    "也可以用`list()`将返回值转换为列表，但是这样会丢失列名，不够直观。   \n",
    "department\n",
    "HR       [52500.0, 55000]   \n",
    "Sales    [75000.0, 80000]   \n",
    "Tech     [92500.0, 95000]   \n",
    "dtype: object   \n",
    "\n",
    "使用`pd.Series()`这样的方法，返回的是一个DataFrame，可以像表格一样方便地访问列 `result[\"Average Salary\"]` 和 `result[\"Highest Salary\"]`。   \n",
    "            Average Salary  Highest Salary   \n",
    "department                                  \n",
    "HR                 52500.0           55000   \n",
    "Sales              75000.0           80000   \n",
    "Tech               92500.0           95000   \n"
   ]
  },
  {
   "cell_type": "markdown",
   "metadata": {},
   "source": [
    "## 返回单个值"
   ]
  },
  {
   "cell_type": "code",
   "execution_count": 4,
   "metadata": {},
   "outputs": [],
   "source": [
    "import pandas as pd\n",
    "\n",
    "# 创建示例 DataFrame\n",
    "data = {\n",
    "    'department': ['Sales', 'Sales', 'HR', 'HR', 'Tech', 'Tech', 'Tech'],\n",
    "    'employee': ['Alice', 'Bob', 'Charlie', 'David', 'Eva', 'Frank', 'Grace'],\n",
    "    'salary': [75000, 90000, 85000, 60000, 95000, 72000, 88000]\n",
    "}\n",
    "\n",
    "df = pd.DataFrame(data)"
   ]
  },
  {
   "cell_type": "code",
   "execution_count": 5,
   "metadata": {},
   "outputs": [
    {
     "name": "stdout",
     "output_type": "stream",
     "text": [
      "department\n",
      "HR       1\n",
      "Sales    1\n",
      "Tech     2\n",
      "Name: salary, dtype: int64\n"
     ]
    }
   ],
   "source": [
    "# 定义 apply 函数，计算高薪 (>80,000) 员工数量\n",
    "def high_salary_count(column):\n",
    "    return (column > 80000).sum()\n",
    "\n",
    "# 使用 groupby().apply() 计算每个部门高薪员工的数量\n",
    "high_salary_counts = df.groupby('department')['salary'].apply(high_salary_count)\n",
    "\n",
    "# 输出结果\n",
    "print(high_salary_counts)"
   ]
  }
 ],
 "metadata": {
  "kernelspec": {
   "display_name": "base",
   "language": "python",
   "name": "python3"
  },
  "language_info": {
   "codemirror_mode": {
    "name": "ipython",
    "version": 3
   },
   "file_extension": ".py",
   "mimetype": "text/x-python",
   "name": "python",
   "nbconvert_exporter": "python",
   "pygments_lexer": "ipython3",
   "version": "3.9.13"
  }
 },
 "nbformat": 4,
 "nbformat_minor": 2
}
