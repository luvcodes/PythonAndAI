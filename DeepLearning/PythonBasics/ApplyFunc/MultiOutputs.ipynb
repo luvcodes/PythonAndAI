{
 "cells": [
  {
   "cell_type": "markdown",
   "metadata": {},
   "source": [
    "# Multiple Outputs"
   ]
  },
  {
   "cell_type": "code",
   "execution_count": 1,
   "metadata": {},
   "outputs": [],
   "source": [
    "import pandas as pd\n",
    "\n",
    "# predefined DataFrame\n",
    "data = {\n",
    "    'product': ['A', 'B', 'C', 'D', 'E'],\n",
    "    'price': [120, 150, 100, 130, 110],\n",
    "    'quantity': [30, 40, 20, 50, 60]\n",
    "}\n",
    "\n",
    "df = pd.DataFrame(data)"
   ]
  },
  {
   "cell_type": "code",
   "execution_count": 2,
   "metadata": {},
   "outputs": [
    {
     "name": "stdout",
     "output_type": "stream",
     "text": [
      "Total Revenue: 24700\n",
      "Average Price: 122.0\n"
     ]
    }
   ],
   "source": [
    "# function returning two outputs\n",
    "def calculate_totals(df):\n",
    "    total_revenue = (df['price'] * df['quantity']).sum()\n",
    "    avg_price = df['price'].mean()\n",
    "    return total_revenue, avg_price\n",
    "\n",
    "# Call the function\n",
    "revenue, avg_price = calculate_totals(df)\n",
    "\n",
    "print(f\"Total Revenue: {revenue}\")\n",
    "print(f\"Average Price: {avg_price}\")"
   ]
  }
 ],
 "metadata": {
  "kernelspec": {
   "display_name": "base",
   "language": "python",
   "name": "python3"
  },
  "language_info": {
   "codemirror_mode": {
    "name": "ipython",
    "version": 3
   },
   "file_extension": ".py",
   "mimetype": "text/x-python",
   "name": "python",
   "nbconvert_exporter": "python",
   "pygments_lexer": "ipython3",
   "version": "3.9.13"
  }
 },
 "nbformat": 4,
 "nbformat_minor": 2
}
