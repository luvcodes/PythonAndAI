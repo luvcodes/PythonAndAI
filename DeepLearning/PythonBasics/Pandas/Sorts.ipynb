{
 "cells": [
  {
   "cell_type": "markdown",
   "metadata": {},
   "source": [
    "# Sorting in Python"
   ]
  },
  {
   "cell_type": "code",
   "execution_count": 3,
   "metadata": {},
   "outputs": [
    {
     "name": "stdout",
     "output_type": "stream",
     "text": [
      "       name  age       city\n",
      "a  zhangsan   20    beijing\n",
      "b      lisi   30   shanghai\n",
      "c    wangwu   25  guangzhou\n",
      "d   zhaoliu   35   shenzhen \n",
      "\n",
      "       name  age       city\n",
      "d   zhaoliu   35   shenzhen\n",
      "b      lisi   30   shanghai\n",
      "c    wangwu   25  guangzhou\n",
      "a  zhangsan   20    beijing\n"
     ]
    }
   ],
   "source": [
    "import pandas as pd\n",
    "\n",
    "df = pd.DataFrame({\n",
    "    'name': ['zhangsan', 'lisi', 'wangwu', 'zhaoliu'],\n",
    "    'age': [20, 30, 25, 35],\n",
    "    'city': ['beijing', 'shanghai', 'guangzhou', 'shenzhen']\n",
    "}, index=['a', 'b', 'c', 'd'])\n",
    "\n",
    "print(df, \"\\n\")\n",
    "\n",
    "# 排序sorting\n",
    "df = df.sort_values('age', ascending=False)\n",
    "print(df)"
   ]
  }
 ],
 "metadata": {
  "kernelspec": {
   "display_name": "base",
   "language": "python",
   "name": "python3"
  },
  "language_info": {
   "codemirror_mode": {
    "name": "ipython",
    "version": 3
   },
   "file_extension": ".py",
   "mimetype": "text/x-python",
   "name": "python",
   "nbconvert_exporter": "python",
   "pygments_lexer": "ipython3",
   "version": "3.9.13"
  }
 },
 "nbformat": 4,
 "nbformat_minor": 2
}
