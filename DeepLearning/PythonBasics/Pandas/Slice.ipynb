{
 "cells": [
  {
   "cell_type": "markdown",
   "metadata": {},
   "source": [
    "# Slice in Python"
   ]
  },
  {
   "cell_type": "code",
   "execution_count": 2,
   "metadata": {},
   "outputs": [
    {
     "data": {
      "text/html": [
       "<div>\n",
       "<style scoped>\n",
       "    .dataframe tbody tr th:only-of-type {\n",
       "        vertical-align: middle;\n",
       "    }\n",
       "\n",
       "    .dataframe tbody tr th {\n",
       "        vertical-align: top;\n",
       "    }\n",
       "\n",
       "    .dataframe thead th {\n",
       "        text-align: right;\n",
       "    }\n",
       "</style>\n",
       "<table border=\"1\" class=\"dataframe\">\n",
       "  <thead>\n",
       "    <tr style=\"text-align: right;\">\n",
       "      <th></th>\n",
       "      <th>name</th>\n",
       "      <th>age</th>\n",
       "      <th>city</th>\n",
       "    </tr>\n",
       "  </thead>\n",
       "  <tbody>\n",
       "    <tr>\n",
       "      <th>1</th>\n",
       "      <td>zhangsan</td>\n",
       "      <td>20</td>\n",
       "      <td>beijing</td>\n",
       "    </tr>\n",
       "    <tr>\n",
       "      <th>2</th>\n",
       "      <td>lisi</td>\n",
       "      <td>30</td>\n",
       "      <td>shanghai</td>\n",
       "    </tr>\n",
       "    <tr>\n",
       "      <th>3</th>\n",
       "      <td>wangwu</td>\n",
       "      <td>25</td>\n",
       "      <td>guangzhou</td>\n",
       "    </tr>\n",
       "    <tr>\n",
       "      <th>4</th>\n",
       "      <td>zhaoliu</td>\n",
       "      <td>35</td>\n",
       "      <td>shenzhen</td>\n",
       "    </tr>\n",
       "  </tbody>\n",
       "</table>\n",
       "</div>"
      ],
      "text/plain": [
       "       name  age       city\n",
       "1  zhangsan   20    beijing\n",
       "2      lisi   30   shanghai\n",
       "3    wangwu   25  guangzhou\n",
       "4   zhaoliu   35   shenzhen"
      ]
     },
     "execution_count": 2,
     "metadata": {},
     "output_type": "execute_result"
    }
   ],
   "source": [
    "import pandas as pd\n",
    "# Original dataframe\n",
    "df = pd.DataFrame({\n",
    "    'name': ['zhangsan', 'lisi', 'wangwu', 'zhaoliu'],\n",
    "    'age': [20, 30, 25, 35],\n",
    "    'city': ['beijing', 'shanghai', 'guangzhou', 'shenzhen']\n",
    "}, index=['1', '2', '3', '4'])\n",
    "\n",
    "df"
   ]
  },
  {
   "cell_type": "markdown",
   "metadata": {},
   "source": [
    "✅ 何时用 loc[]？\n",
    "当 索引是自定义标签 时（如 'a', 'b', 'c'）。\n",
    "选取特定行名或列名时。   \n",
    "✅ 何时用 iloc[]？\n",
    "当你需要 基于行号/列号选取数据。\n",
    "数据是默认整数索引时（0,1,2,…）。"
   ]
  },
  {
   "cell_type": "code",
   "execution_count": 3,
   "metadata": {},
   "outputs": [
    {
     "name": "stdout",
     "output_type": "stream",
     "text": [
      "name        lisi\n",
      "age           30\n",
      "city    shanghai\n",
      "Name: 2, dtype: object \n",
      "\n",
      "     name  age       city\n",
      "2    lisi   30   shanghai\n",
      "3  wangwu   25  guangzhou \n",
      "\n",
      "1    zhangsan\n",
      "2        lisi\n",
      "3      wangwu\n",
      "4     zhaoliu\n",
      "Name: name, dtype: object \n",
      "\n",
      "       name  age\n",
      "1  zhangsan   20\n",
      "2      lisi   30\n",
      "3    wangwu   25\n",
      "4   zhaoliu   35 \n",
      "\n",
      "       name  age       city\n",
      "1  zhangsan   20    beijing\n",
      "2      lisi   30   shanghai\n",
      "3    wangwu   25  guangzhou \n",
      "\n",
      "       name  age\n",
      "1  zhangsan   20\n",
      "2      lisi   30\n",
      "3    wangwu   25 \n",
      "\n",
      "      name  age      city\n",
      "2     lisi   30  shanghai\n",
      "4  zhaoliu   35  shenzhen\n"
     ]
    }
   ],
   "source": [
    "# loc[]方法 基于标签的索引\n",
    "# 使用行索引获取数据\n",
    "print(df.loc['2'], \"\\n\")\n",
    "# 使用多个行索引获取数据\n",
    "print(df.loc[['2', '3']], \"\\n\")\n",
    "# 使用列索引获取数据\n",
    "print(df.loc[:, 'name'], \"\\n\")\n",
    "# 使用多个列索引获取数据\n",
    "print(df.loc[:, ['name', 'age']], \"\\n\")\n",
    "# 行切片, 闭区间，包括3\n",
    "print(df.loc['1':'3'], \"\\n\")\n",
    "print(df.loc['1':'3', ['name', 'age']], \"\\n\")\n",
    "# loc[]条件筛选\n",
    "print(df.loc[df['age'] > 25])"
   ]
  },
  {
   "cell_type": "code",
   "execution_count": 4,
   "metadata": {},
   "outputs": [
    {
     "name": "stdout",
     "output_type": "stream",
     "text": [
      "name        lisi\n",
      "age           30\n",
      "city    shanghai\n",
      "Name: 2, dtype: object \n",
      "\n",
      "     name  age       city\n",
      "2    lisi   30   shanghai\n",
      "3  wangwu   25  guangzhou \n",
      "\n",
      "1    20\n",
      "2    30\n",
      "3    25\n",
      "4    35\n",
      "Name: age, dtype: int64 \n",
      "\n",
      "       name       city\n",
      "1  zhangsan    beijing\n",
      "2      lisi   shanghai\n",
      "3    wangwu  guangzhou\n",
      "4   zhaoliu   shenzhen \n",
      "\n",
      "       name  age       city\n",
      "1  zhangsan   20    beijing\n",
      "2      lisi   30   shanghai\n",
      "3    wangwu   25  guangzhou \n",
      "\n"
     ]
    }
   ],
   "source": [
    "# iloc[]方法 基于整数位置的索引\n",
    "'''\n",
    "df.iloc[行号, 列号] \n",
    "切片是 左闭右开（即 end 不包含）\n",
    "'''\n",
    "# iloc[]选取单行\n",
    "print(df.iloc[1], \"\\n\")\n",
    "# iloc[]选取多行\n",
    "print(df.iloc[[1,2]], \"\\n\")\n",
    "# iloc[]选取单列\n",
    "print(df.iloc[:, 1], \"\\n\")\n",
    "# iloc[]选取多列\n",
    "print(df.iloc[:, [0, 2]], \"\\n\")\n",
    "# iloc[]行切片\n",
    "print(df.iloc[0:3], \"\\n\")"
   ]
  }
 ],
 "metadata": {
  "kernelspec": {
   "display_name": "base",
   "language": "python",
   "name": "python3"
  },
  "language_info": {
   "codemirror_mode": {
    "name": "ipython",
    "version": 3
   },
   "file_extension": ".py",
   "mimetype": "text/x-python",
   "name": "python",
   "nbconvert_exporter": "python",
   "pygments_lexer": "ipython3",
   "version": "3.9.13"
  }
 },
 "nbformat": 4,
 "nbformat_minor": 2
}
