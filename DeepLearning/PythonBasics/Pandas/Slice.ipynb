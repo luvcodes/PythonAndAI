{
 "cells": [
  {
   "cell_type": "markdown",
   "metadata": {},
   "source": [
    "# Slice in Python"
   ]
  },
  {
   "cell_type": "code",
   "execution_count": null,
   "metadata": {},
   "outputs": [],
   "source": [
    "import pandas as pd\n",
    "# Original dataframe\n",
    "df = pd.DataFrame({\n",
    "    'name': ['zhangsan', 'lisi', 'wangwu', 'zhaoliu'],\n",
    "    'age': [20, 30, 25, 35],\n",
    "    'city': ['beijing', 'shanghai', 'guangzhou', 'shenzhen']\n",
    "}, index=['1', '2', '3', '4'])\n",
    "\n",
    "print(df, \"\\n\")\n",
    "\n",
    "'''\n",
    "✅ 何时用 loc[]？\n",
    "当 索引是自定义标签 时（如 'a', 'b', 'c'）。\n",
    "选取特定行名或列名时。\n",
    "✅ 何时用 iloc[]？\n",
    "当你需要 基于行号/列号选取数据。\n",
    "数据是默认整数索引时（0,1,2,…）。\n",
    "'''\n",
    "\n",
    "# loc[]方法 基于标签的索引\n",
    "# 使用行索引获取数据\n",
    "print(df.loc['2'], \"\\n\")\n",
    "# 使用多个行索引获取数据\n",
    "print(df.loc[['2', '3']], \"\\n\")\n",
    "# 使用列索引获取数据\n",
    "print(df.loc[:, 'name'], \"\\n\")\n",
    "# 使用多个列索引获取数据\n",
    "print(df.loc[:, ['name', 'age']], \"\\n\")\n",
    "# 行切片, 闭区间，包括3\n",
    "print(df.loc['1':'3'], \"\\n\")\n",
    "print(df.loc['1':'3', ['name', 'age']], \"\\n\")\n",
    "# loc[]条件筛选\n",
    "print(df.loc[df['age'] > 25])\n",
    "\n",
    "# iloc[]方法 基于整数位置的索引\n",
    "'''\n",
    "df.iloc[行号, 列号] \n",
    "切片是 左闭右开（即 end 不包含）\n",
    "'''\n",
    "# iloc[]选取单行\n",
    "print(df.iloc[1], \"\\n\")\n",
    "# iloc[]选取多行\n",
    "print(df.iloc[[1,2]], \"\\n\")\n",
    "# iloc[]选取单列\n",
    "print(df.iloc[:, 1], \"\\n\")\n",
    "# iloc[]选取多列\n",
    "print(df.iloc[:, [0, 2]], \"\\n\")\n",
    "# iloc[]行切片\n",
    "print(df.iloc[0:3], \"\\n\")"
   ]
  }
 ],
 "metadata": {
  "kernelspec": {
   "display_name": "base",
   "language": "python",
   "name": "python3"
  },
  "language_info": {
   "name": "python",
   "version": "3.9.13"
  }
 },
 "nbformat": 4,
 "nbformat_minor": 2
}
