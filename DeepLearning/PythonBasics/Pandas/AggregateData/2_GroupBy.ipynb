{
 "cells": [
  {
   "cell_type": "markdown",
   "id": "d086c27a5fdd95b9",
   "metadata": {},
   "source": [
    "# GroupBy关键字"
   ]
  },
  {
   "cell_type": "code",
   "execution_count": 1,
   "id": "initial_id",
   "metadata": {
    "ExecuteTime": {
     "end_time": "2025-03-17T05:37:10.876081Z",
     "start_time": "2025-03-17T05:36:54.044581Z"
    },
    "collapsed": true
   },
   "outputs": [
    {
     "data": {
      "text/html": [
       "<div>\n",
       "<style scoped>\n",
       "    .dataframe tbody tr th:only-of-type {\n",
       "        vertical-align: middle;\n",
       "    }\n",
       "\n",
       "    .dataframe tbody tr th {\n",
       "        vertical-align: top;\n",
       "    }\n",
       "\n",
       "    .dataframe thead th {\n",
       "        text-align: right;\n",
       "    }\n",
       "</style>\n",
       "<table border=\"1\" class=\"dataframe\">\n",
       "  <thead>\n",
       "    <tr style=\"text-align: right;\">\n",
       "      <th></th>\n",
       "      <th>home_score</th>\n",
       "    </tr>\n",
       "    <tr>\n",
       "      <th>home_team</th>\n",
       "      <th></th>\n",
       "    </tr>\n",
       "  </thead>\n",
       "  <tbody>\n",
       "    <tr>\n",
       "      <th>Brazil</th>\n",
       "      <td>2.666667</td>\n",
       "    </tr>\n",
       "    <tr>\n",
       "      <th>England</th>\n",
       "      <td>2.333333</td>\n",
       "    </tr>\n",
       "    <tr>\n",
       "      <th>South Korea</th>\n",
       "      <td>2.000000</td>\n",
       "    </tr>\n",
       "  </tbody>\n",
       "</table>\n",
       "</div>"
      ],
      "text/plain": [
       "             home_score\n",
       "home_team              \n",
       "Brazil         2.666667\n",
       "England        2.333333\n",
       "South Korea    2.000000"
      ]
     },
     "execution_count": 1,
     "metadata": {},
     "output_type": "execute_result"
    }
   ],
   "source": [
    "import pandas as pd\n",
    "import numpy as np\n",
    "\n",
    "data = {'home_team':['Brazil','England','England','Brazil','South Korea','England','South Korea','Brazil','South Korea'],\n",
    "        'home_score':[3,2,3,3,2,2,3,2,1]}\n",
    "df = pd.DataFrame(data)\n",
    "\n",
    "df.groupby('home_team').agg({'home_score':'mean'})\n",
    "# 还有另一种写法\n",
    "# df.groupby('home_team)['home_score'].mean()"
   ]
  },
  {
   "cell_type": "markdown",
   "id": "93bc366a762b6460",
   "metadata": {},
   "source": [
    "# Cleaning GroupBy\n",
    "下面的方法是在实现 `GroupBy` 方法之后的操作，例如rename columns，reset index。"
   ]
  },
  {
   "cell_type": "code",
   "execution_count": 3,
   "id": "9ff0973150029cc3",
   "metadata": {
    "ExecuteTime": {
     "end_time": "2025-03-17T06:16:26.033905Z",
     "start_time": "2025-03-17T06:16:26.016200Z"
    }
   },
   "outputs": [
    {
     "name": "stdout",
     "output_type": "stream",
     "text": [
      "  home_team  home_score away_team  away_score\n",
      "0         A           2         X           1\n",
      "1         A           3         Y           0\n",
      "2         B           1         X           2\n",
      "3         B           4         Y           3\n",
      "4         C           5         X           1\n",
      "5         C           6         Y           2\n",
      "6         D           2         X           3\n",
      "7         D           3         Y           4\n"
     ]
    }
   ],
   "source": [
    "import pandas as pd\n",
    "import numpy as np\n",
    "\n",
    "\n",
    "data = {\n",
    "    'home_team': ['A', 'A', 'B', 'B', 'C', 'C', 'D', 'D'],\n",
    "    'home_score': [2, 3, 1, 4, 5, 6, 2, 3],\n",
    "    'away_team': ['X', 'Y', 'X', 'Y', 'X', 'Y', 'X', 'Y'],\n",
    "    'away_score': [1, 0, 2, 3, 1, 2, 3, 4]\n",
    "}\n",
    "\n",
    "df = pd.DataFrame(data)\n",
    "print(df)\n",
    "\n",
    "# Group by 'home_team' and compute the mean home score\n",
    "df_grouped = df.groupby('home_team').agg({'home_score': 'mean'})\n",
    "\n",
    "# Step 1: Rename first, then reset index (alternative approach)\n",
    "df_renamed_first = df_grouped.rename(columns={'home_score': 'mean_home_score'})\n",
    "df_final1 = df_renamed_first.reset_index()\n",
    "print(df_final1)\n",
    "\n",
    "# Step 2: Reset index first, then rename (recommended approach)\n",
    "df_final2 = df_grouped.reset_index().rename(columns={'home_score': 'mean_home_score'})\n",
    "print(df_final2)"
   ]
  },
  {
   "cell_type": "markdown",
   "id": "4e098a843c6e3463",
   "metadata": {},
   "source": [
    "# GroupBy many columns"
   ]
  },
  {
   "cell_type": "code",
   "execution_count": null,
   "id": "5fbd152b07a45d3d",
   "metadata": {
    "ExecuteTime": {
     "end_time": "2025-03-17T23:03:18.329927Z",
     "start_time": "2025-03-17T23:03:15.845372Z"
    }
   },
   "outputs": [
    {
     "data": {
      "text/html": [
       "<div>\n",
       "<style scoped>\n",
       "    .dataframe tbody tr th:only-of-type {\n",
       "        vertical-align: middle;\n",
       "    }\n",
       "\n",
       "    .dataframe tbody tr th {\n",
       "        vertical-align: top;\n",
       "    }\n",
       "\n",
       "    .dataframe thead th {\n",
       "        text-align: right;\n",
       "    }\n",
       "</style>\n",
       "<table border=\"1\" class=\"dataframe\">\n",
       "  <thead>\n",
       "    <tr style=\"text-align: right;\">\n",
       "      <th></th>\n",
       "      <th>home_team</th>\n",
       "      <th>away_team</th>\n",
       "      <th>max_margin</th>\n",
       "    </tr>\n",
       "  </thead>\n",
       "  <tbody>\n",
       "    <tr>\n",
       "      <th>0</th>\n",
       "      <td>El Salvador</td>\n",
       "      <td>Guatemala</td>\n",
       "      <td>2</td>\n",
       "    </tr>\n",
       "    <tr>\n",
       "      <th>1</th>\n",
       "      <td>El Salvador</td>\n",
       "      <td>Honduras</td>\n",
       "      <td>0</td>\n",
       "    </tr>\n",
       "    <tr>\n",
       "      <th>2</th>\n",
       "      <td>United States</td>\n",
       "      <td>Mexico</td>\n",
       "      <td>1</td>\n",
       "    </tr>\n",
       "  </tbody>\n",
       "</table>\n",
       "</div>"
      ],
      "text/plain": [
       "       home_team  away_team  max_margin\n",
       "0    El Salvador  Guatemala           2\n",
       "1    El Salvador   Honduras           0\n",
       "2  United States     Mexico           1"
      ]
     },
     "execution_count": 2,
     "metadata": {},
     "output_type": "execute_result"
    }
   ],
   "source": [
    "import pandas as pd\n",
    "\n",
    "data = {'date': ['2019-09-06', '2021-09-24', '2019-07-07', '2021-06-27', '2016-03-25', '2017-05-28', '2021-09-05', '2021-08-01', '2021-07-11'],\n",
    "        'home_team': ['United States', 'El Salvador', 'United States', 'El Salvador', 'El Salvador', 'El Salvador', 'El Salvador', 'United States', 'El Salvador'],\n",
    "        'away_team': ['Mexico', 'Guatemala', 'Mexico', 'Guatemala', 'Honduras', 'Honduras', 'Honduras', 'Mexico', 'Guatemala'],\n",
    "        'win_margin': [-3, -2, -1, 0, 0, 0, 0, 1, 2]}\n",
    "df = pd.DataFrame(data)\n",
    "\n",
    "# create the groupby, 实现多个属性的GroupBy\n",
    "max_wins = df.groupby(\n",
    "    ['home_team', 'away_team']).agg(\n",
    "    {'win_margin':'max'})\n",
    "\n",
    "# clean the output\n",
    "max_wins.columns = ['max_margin']\n",
    "max_wins = max_wins.reset_index()\n",
    "\n",
    "# show output\n",
    "max_wins.head()"
   ]
  },
  {
   "cell_type": "markdown",
   "id": "667f01c9",
   "metadata": {},
   "source": [
    "# Groupby 多个计算结果于一体"
   ]
  },
  {
   "cell_type": "code",
   "execution_count": 1,
   "id": "d1f27653",
   "metadata": {},
   "outputs": [
    {
     "data": {
      "text/html": [
       "<div>\n",
       "<style scoped>\n",
       "    .dataframe tbody tr th:only-of-type {\n",
       "        vertical-align: middle;\n",
       "    }\n",
       "\n",
       "    .dataframe tbody tr th {\n",
       "        vertical-align: top;\n",
       "    }\n",
       "\n",
       "    .dataframe thead th {\n",
       "        text-align: right;\n",
       "    }\n",
       "</style>\n",
       "<table border=\"1\" class=\"dataframe\">\n",
       "  <thead>\n",
       "    <tr style=\"text-align: right;\">\n",
       "      <th></th>\n",
       "      <th>tournament</th>\n",
       "      <th>num_games</th>\n",
       "      <th>mean_goals</th>\n",
       "      <th>median_goals</th>\n",
       "    </tr>\n",
       "  </thead>\n",
       "  <tbody>\n",
       "    <tr>\n",
       "      <th>0</th>\n",
       "      <td>FIFA World Cup</td>\n",
       "      <td>4</td>\n",
       "      <td>3.75</td>\n",
       "      <td>3.0</td>\n",
       "    </tr>\n",
       "    <tr>\n",
       "      <th>1</th>\n",
       "      <td>Friendly</td>\n",
       "      <td>4</td>\n",
       "      <td>1.75</td>\n",
       "      <td>1.5</td>\n",
       "    </tr>\n",
       "  </tbody>\n",
       "</table>\n",
       "</div>"
      ],
      "text/plain": [
       "       tournament  num_games  mean_goals  median_goals\n",
       "0  FIFA World Cup          4        3.75           3.0\n",
       "1        Friendly          4        1.75           1.5"
      ]
     },
     "execution_count": 1,
     "metadata": {},
     "output_type": "execute_result"
    }
   ],
   "source": [
    "import pandas as pd\n",
    "import numpy as np\n",
    "\n",
    "data = [\n",
    "    ['2022-11-17', 'South Africa', 'Mozambique', 3, 'Friendly'],\n",
    "    ['2022-11-20', 'Norway', 'Finland', 2, 'Friendly'],\n",
    "    ['2022-11-19', 'Peru', 'Bolivia', 1, 'Friendly'],\n",
    "    ['2022-12-02', 'South Korea', 'Portugal', 3, 'FIFA World Cup'],\n",
    "    ['2022-12-10', 'England', 'France', 3, 'FIFA World Cup'],\n",
    "    ['2022-12-14', 'Vietnam', 'Philippines', 1, 'Friendly'],\n",
    "    ['2022-12-17', 'Croatia', 'Morocco', 3, 'FIFA World Cup'],\n",
    "    ['2022-12-18', 'Argentina', 'France', 6, 'FIFA World Cup']\n",
    "]\n",
    "\n",
    "df = pd.DataFrame(data, columns=['date', 'home_team', 'away_team', 'total_goals', 'tournament'])\n",
    "\n",
    "# Aggregation functions on multiple columns\n",
    "goals = df.groupby('tournament').agg({'date':'count', 'total_goals':['mean','median']})\n",
    "\n",
    "# Renaming columns\n",
    "goals.columns = ['num_games','mean_goals','median_goals']\n",
    "goals = goals.reset_index()\n",
    "\n",
    "goals"
   ]
  }
 ],
 "metadata": {
  "kernelspec": {
   "display_name": "base",
   "language": "python",
   "name": "python3"
  },
  "language_info": {
   "codemirror_mode": {
    "name": "ipython",
    "version": 3
   },
   "file_extension": ".py",
   "mimetype": "text/x-python",
   "name": "python",
   "nbconvert_exporter": "python",
   "pygments_lexer": "ipython3",
   "version": "3.9.13"
  }
 },
 "nbformat": 4,
 "nbformat_minor": 5
}
