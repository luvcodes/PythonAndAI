{
 "cells": [
  {
   "cell_type": "code",
   "id": "initial_id",
   "metadata": {
    "collapsed": true,
    "ExecuteTime": {
     "end_time": "2025-03-17T03:42:52.071081Z",
     "start_time": "2025-03-17T03:42:52.044475Z"
    }
   },
   "source": [
    "import pandas as pd\n",
    "\n",
    "# Sample DataFrame\n",
    "data = {\n",
    "    'team': ['A', 'A', 'B', 'B', 'C', 'C'],\n",
    "    'score': [10, 20, 30, 40, 50, 60],\n",
    "    'assists': [2, 3, 5, 1, 4, 6]\n",
    "}\n",
    "\n",
    "df = pd.DataFrame(data)\n",
    "\n",
    "# Basic aggregation\n",
    "print(\"Mean of all numeric columns:\\n\", df.mean())\n",
    "print(\"Sum of scores:\", df['score'].sum())\n",
    "print(\"Max score:\", df['score'].max())\n",
    "print(\"Min assists:\", df['assists'].min())\n",
    "print(\"Count of rows:\", df.count())\n"
   ],
   "outputs": [
    {
     "name": "stdout",
     "output_type": "stream",
     "text": [
      "Mean of all numeric columns:\n",
      " score      35.0\n",
      "assists     3.5\n",
      "dtype: float64\n",
      "Sum of scores: 210\n",
      "Max score: 60\n",
      "Min assists: 1\n",
      "Count of rows: team       6\n",
      "score      6\n",
      "assists    6\n",
      "dtype: int64\n"
     ]
    },
    {
     "name": "stderr",
     "output_type": "stream",
     "text": [
      "/var/folders/z0/jd09nwzx3tx1myg3bvcvnrqr0000gn/T/ipykernel_20256/1407981048.py:13: FutureWarning: Dropping of nuisance columns in DataFrame reductions (with 'numeric_only=None') is deprecated; in a future version this will raise TypeError.  Select only valid columns before calling the reduction.\n",
      "  print(\"Mean of all numeric columns:\\n\", df.mean())\n"
     ]
    }
   ],
   "execution_count": 2
  }
 ],
 "metadata": {
  "kernelspec": {
   "display_name": "Python 3",
   "language": "python",
   "name": "python3"
  },
  "language_info": {
   "codemirror_mode": {
    "name": "ipython",
    "version": 2
   },
   "file_extension": ".py",
   "mimetype": "text/x-python",
   "name": "python",
   "nbconvert_exporter": "python",
   "pygments_lexer": "ipython2",
   "version": "2.7.6"
  }
 },
 "nbformat": 4,
 "nbformat_minor": 5
}
