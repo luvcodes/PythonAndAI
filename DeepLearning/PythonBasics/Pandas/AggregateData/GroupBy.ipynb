{
 "cells": [
  {
   "metadata": {},
   "cell_type": "markdown",
   "source": "# GroupBy关键字",
   "id": "d086c27a5fdd95b9"
  },
  {
   "cell_type": "code",
   "id": "initial_id",
   "metadata": {
    "collapsed": true,
    "ExecuteTime": {
     "end_time": "2025-03-17T05:37:10.876081Z",
     "start_time": "2025-03-17T05:36:54.044581Z"
    }
   },
   "source": [
    "import pandas as pd\n",
    "import numpy as np\n",
    "\n",
    "data = {'home_team':['Brazil','England','England','Brazil','South Korea','England','South Korea','Brazil','South Korea'],\n",
    "        'home_score':[3,2,3,3,2,2,3,2,1]}\n",
    "df = pd.DataFrame(data)\n",
    "\n",
    "df.groupby('home_team').agg({'home_score':'mean'})\n",
    "# 还有另一种写法\n",
    "# df.groupby('home_team)['home_score'].mean()"
   ],
   "outputs": [
    {
     "data": {
      "text/plain": [
       "             home_score\n",
       "home_team              \n",
       "Brazil         2.666667\n",
       "England        2.333333\n",
       "South Korea    2.000000"
      ],
      "text/html": [
       "<div>\n",
       "<style scoped>\n",
       "    .dataframe tbody tr th:only-of-type {\n",
       "        vertical-align: middle;\n",
       "    }\n",
       "\n",
       "    .dataframe tbody tr th {\n",
       "        vertical-align: top;\n",
       "    }\n",
       "\n",
       "    .dataframe thead th {\n",
       "        text-align: right;\n",
       "    }\n",
       "</style>\n",
       "<table border=\"1\" class=\"dataframe\">\n",
       "  <thead>\n",
       "    <tr style=\"text-align: right;\">\n",
       "      <th></th>\n",
       "      <th>home_score</th>\n",
       "    </tr>\n",
       "    <tr>\n",
       "      <th>home_team</th>\n",
       "      <th></th>\n",
       "    </tr>\n",
       "  </thead>\n",
       "  <tbody>\n",
       "    <tr>\n",
       "      <th>Brazil</th>\n",
       "      <td>2.666667</td>\n",
       "    </tr>\n",
       "    <tr>\n",
       "      <th>England</th>\n",
       "      <td>2.333333</td>\n",
       "    </tr>\n",
       "    <tr>\n",
       "      <th>South Korea</th>\n",
       "      <td>2.000000</td>\n",
       "    </tr>\n",
       "  </tbody>\n",
       "</table>\n",
       "</div>"
      ]
     },
     "execution_count": 1,
     "metadata": {},
     "output_type": "execute_result"
    }
   ],
   "execution_count": 1
  },
  {
   "metadata": {},
   "cell_type": "markdown",
   "source": "# Cleaning GroupBy关键字",
   "id": "93bc366a762b6460"
  },
  {
   "metadata": {
    "ExecuteTime": {
     "end_time": "2025-03-17T06:16:26.033905Z",
     "start_time": "2025-03-17T06:16:26.016200Z"
    }
   },
   "cell_type": "code",
   "source": [
    "import pandas as pd\n",
    "import numpy as np\n",
    "\n",
    "\n",
    "data = {\n",
    "    'home_team': ['A', 'A', 'B', 'B', 'C', 'C', 'D', 'D'],\n",
    "    'home_score': [2, 3, 1, 4, 5, 6, 2, 3],\n",
    "    'away_team': ['X', 'Y', 'X', 'Y', 'X', 'Y', 'X', 'Y'],\n",
    "    'away_score': [1, 0, 2, 3, 1, 2, 3, 4]\n",
    "}\n",
    "\n",
    "df = pd.DataFrame(data)\n",
    "print(df)\n",
    "\n",
    "# Group by 'home_team' and compute the mean home score\n",
    "df_grouped = df.groupby('home_team').agg({'home_score': 'mean'})\n",
    "\n",
    "# Step 1: Rename first, then reset index (alternative approach)\n",
    "df_renamed_first = df_grouped.rename(columns={'home_score': 'mean_home_score'})\n",
    "df_final1 = df_renamed_first.reset_index()\n",
    "print(df_final1)\n",
    "\n",
    "# Step 2: Reset index first, then rename (recommended approach)\n",
    "df_final2 = df_grouped.reset_index().rename(columns={'home_score': 'mean_home_score'})\n",
    "print(df_final2)"
   ],
   "id": "9ff0973150029cc3",
   "outputs": [
    {
     "name": "stdout",
     "output_type": "stream",
     "text": [
      "  home_team  home_score away_team  away_score\n",
      "0         A           2         X           1\n",
      "1         A           3         Y           0\n",
      "2         B           1         X           2\n",
      "3         B           4         Y           3\n",
      "4         C           5         X           1\n",
      "5         C           6         Y           2\n",
      "6         D           2         X           3\n",
      "7         D           3         Y           4\n"
     ]
    }
   ],
   "execution_count": 3
  }
 ],
 "metadata": {
  "kernelspec": {
   "display_name": "Python 3",
   "language": "python",
   "name": "python3"
  },
  "language_info": {
   "codemirror_mode": {
    "name": "ipython",
    "version": 2
   },
   "file_extension": ".py",
   "mimetype": "text/x-python",
   "name": "python",
   "nbconvert_exporter": "python",
   "pygments_lexer": "ipython2",
   "version": "2.7.6"
  }
 },
 "nbformat": 4,
 "nbformat_minor": 5
}
