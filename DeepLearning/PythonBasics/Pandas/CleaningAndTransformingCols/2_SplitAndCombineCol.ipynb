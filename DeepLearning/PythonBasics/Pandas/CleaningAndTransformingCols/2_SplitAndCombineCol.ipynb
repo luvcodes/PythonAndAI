{
 "cells": [
  {
   "cell_type": "markdown",
   "metadata": {},
   "source": [
    "# SplittingAndCombining"
   ]
  },
  {
   "cell_type": "code",
   "execution_count": 1,
   "metadata": {},
   "outputs": [
    {
     "data": {
      "text/html": [
       "<div>\n",
       "<style scoped>\n",
       "    .dataframe tbody tr th:only-of-type {\n",
       "        vertical-align: middle;\n",
       "    }\n",
       "\n",
       "    .dataframe tbody tr th {\n",
       "        vertical-align: top;\n",
       "    }\n",
       "\n",
       "    .dataframe thead th {\n",
       "        text-align: right;\n",
       "    }\n",
       "</style>\n",
       "<table border=\"1\" class=\"dataframe\">\n",
       "  <thead>\n",
       "    <tr style=\"text-align: right;\">\n",
       "      <th></th>\n",
       "      <th>name</th>\n",
       "      <th>age</th>\n",
       "      <th>city</th>\n",
       "      <th>province</th>\n",
       "      <th>Location</th>\n",
       "    </tr>\n",
       "  </thead>\n",
       "  <tbody>\n",
       "    <tr>\n",
       "      <th>1</th>\n",
       "      <td>zhangsan</td>\n",
       "      <td>20</td>\n",
       "      <td>qingdao</td>\n",
       "      <td>shandong</td>\n",
       "      <td>qingdao,shandong</td>\n",
       "    </tr>\n",
       "    <tr>\n",
       "      <th>2</th>\n",
       "      <td>lisi</td>\n",
       "      <td>30</td>\n",
       "      <td>shijiazhuang</td>\n",
       "      <td>hebei</td>\n",
       "      <td>shijiazhuang,hebei</td>\n",
       "    </tr>\n",
       "    <tr>\n",
       "      <th>3</th>\n",
       "      <td>wangwu</td>\n",
       "      <td>25</td>\n",
       "      <td>zhengzhou</td>\n",
       "      <td>henan</td>\n",
       "      <td>zhengzhou, henan</td>\n",
       "    </tr>\n",
       "    <tr>\n",
       "      <th>4</th>\n",
       "      <td>zhaoliu</td>\n",
       "      <td>35</td>\n",
       "      <td>taiyuan</td>\n",
       "      <td>shanxi</td>\n",
       "      <td>taiyuan, shanxi</td>\n",
       "    </tr>\n",
       "  </tbody>\n",
       "</table>\n",
       "</div>"
      ],
      "text/plain": [
       "       name  age          city  province            Location\n",
       "1  zhangsan   20       qingdao  shandong    qingdao,shandong\n",
       "2      lisi   30  shijiazhuang     hebei  shijiazhuang,hebei\n",
       "3    wangwu   25     zhengzhou     henan    zhengzhou, henan\n",
       "4   zhaoliu   35       taiyuan    shanxi     taiyuan, shanxi"
      ]
     },
     "execution_count": 1,
     "metadata": {},
     "output_type": "execute_result"
    }
   ],
   "source": [
    "import pandas as pd\n",
    "\n",
    "df = pd.DataFrame({\n",
    "    'name': ['zhangsan', 'lisi', 'wangwu', 'zhaoliu'],\n",
    "    'age': [20, 30, 25, 35],\n",
    "    'city': ['qingdao', 'shijiazhuang', 'zhengzhou', 'taiyuan'],\n",
    "    'province' : ['shandong', 'hebei', 'henan', 'shanxi'],\n",
    "    'Location': ['qingdao,shandong', 'shijiazhuang,hebei', 'zhengzhou, henan', 'taiyuan, shanxi']\n",
    "}, index=['1', '2', '3', '4'])\n",
    "\n",
    "df"
   ]
  },
  {
   "cell_type": "markdown",
   "metadata": {},
   "source": [
    "## Splitting columns\n",
    "可以选择使用逗号作为delimiter"
   ]
  },
  {
   "cell_type": "code",
   "execution_count": 2,
   "metadata": {},
   "outputs": [
    {
     "data": {
      "text/html": [
       "<div>\n",
       "<style scoped>\n",
       "    .dataframe tbody tr th:only-of-type {\n",
       "        vertical-align: middle;\n",
       "    }\n",
       "\n",
       "    .dataframe tbody tr th {\n",
       "        vertical-align: top;\n",
       "    }\n",
       "\n",
       "    .dataframe thead th {\n",
       "        text-align: right;\n",
       "    }\n",
       "</style>\n",
       "<table border=\"1\" class=\"dataframe\">\n",
       "  <thead>\n",
       "    <tr style=\"text-align: right;\">\n",
       "      <th></th>\n",
       "      <th>0</th>\n",
       "      <th>1</th>\n",
       "    </tr>\n",
       "  </thead>\n",
       "  <tbody>\n",
       "    <tr>\n",
       "      <th>1</th>\n",
       "      <td>qingdao</td>\n",
       "      <td>shandong</td>\n",
       "    </tr>\n",
       "    <tr>\n",
       "      <th>2</th>\n",
       "      <td>shijiazhuang</td>\n",
       "      <td>hebei</td>\n",
       "    </tr>\n",
       "    <tr>\n",
       "      <th>3</th>\n",
       "      <td>zhengzhou</td>\n",
       "      <td>henan</td>\n",
       "    </tr>\n",
       "    <tr>\n",
       "      <th>4</th>\n",
       "      <td>taiyuan</td>\n",
       "      <td>shanxi</td>\n",
       "    </tr>\n",
       "  </tbody>\n",
       "</table>\n",
       "</div>"
      ],
      "text/plain": [
       "              0         1\n",
       "1       qingdao  shandong\n",
       "2  shijiazhuang     hebei\n",
       "3     zhengzhou     henan\n",
       "4       taiyuan    shanxi"
      ]
     },
     "execution_count": 2,
     "metadata": {},
     "output_type": "execute_result"
    }
   ],
   "source": [
    "location_split = df['Location'].str.split(',', expand=True)\n",
    "location_split"
   ]
  },
  {
   "cell_type": "markdown",
   "metadata": {},
   "source": [
    "现在的location_split是一个表格, 见这个课程https://www.codecademy.com/courses/getting-started-with-python-for-data-science/lessons/cleaning-and-transforming-columns/exercises/splitting-and-combining-columns   \n",
    "\n",
    "已经通过, 分隔开成两列了"
   ]
  },
  {
   "cell_type": "code",
   "execution_count": 4,
   "metadata": {},
   "outputs": [
    {
     "data": {
      "text/html": [
       "<div>\n",
       "<style scoped>\n",
       "    .dataframe tbody tr th:only-of-type {\n",
       "        vertical-align: middle;\n",
       "    }\n",
       "\n",
       "    .dataframe tbody tr th {\n",
       "        vertical-align: top;\n",
       "    }\n",
       "\n",
       "    .dataframe thead th {\n",
       "        text-align: right;\n",
       "    }\n",
       "</style>\n",
       "<table border=\"1\" class=\"dataframe\">\n",
       "  <thead>\n",
       "    <tr style=\"text-align: right;\">\n",
       "      <th></th>\n",
       "      <th>name</th>\n",
       "      <th>age</th>\n",
       "      <th>city</th>\n",
       "      <th>province</th>\n",
       "      <th>Location</th>\n",
       "      <th>place</th>\n",
       "    </tr>\n",
       "  </thead>\n",
       "  <tbody>\n",
       "    <tr>\n",
       "      <th>1</th>\n",
       "      <td>zhangsan</td>\n",
       "      <td>20</td>\n",
       "      <td>qingdao</td>\n",
       "      <td>shandong</td>\n",
       "      <td>qingdao,shandong</td>\n",
       "      <td>qingdao</td>\n",
       "    </tr>\n",
       "    <tr>\n",
       "      <th>2</th>\n",
       "      <td>lisi</td>\n",
       "      <td>30</td>\n",
       "      <td>shijiazhuang</td>\n",
       "      <td>hebei</td>\n",
       "      <td>shijiazhuang,hebei</td>\n",
       "      <td>shijiazhuang</td>\n",
       "    </tr>\n",
       "    <tr>\n",
       "      <th>3</th>\n",
       "      <td>wangwu</td>\n",
       "      <td>25</td>\n",
       "      <td>zhengzhou</td>\n",
       "      <td>henan</td>\n",
       "      <td>zhengzhou, henan</td>\n",
       "      <td>zhengzhou</td>\n",
       "    </tr>\n",
       "    <tr>\n",
       "      <th>4</th>\n",
       "      <td>zhaoliu</td>\n",
       "      <td>35</td>\n",
       "      <td>taiyuan</td>\n",
       "      <td>shanxi</td>\n",
       "      <td>taiyuan, shanxi</td>\n",
       "      <td>taiyuan</td>\n",
       "    </tr>\n",
       "  </tbody>\n",
       "</table>\n",
       "</div>"
      ],
      "text/plain": [
       "       name  age          city  province            Location         place\n",
       "1  zhangsan   20       qingdao  shandong    qingdao,shandong       qingdao\n",
       "2      lisi   30  shijiazhuang     hebei  shijiazhuang,hebei  shijiazhuang\n",
       "3    wangwu   25     zhengzhou     henan    zhengzhou, henan     zhengzhou\n",
       "4   zhaoliu   35       taiyuan    shanxi     taiyuan, shanxi       taiyuan"
      ]
     },
     "execution_count": 4,
     "metadata": {},
     "output_type": "execute_result"
    }
   ],
   "source": [
    "# 定义一个不存在的column\n",
    "df['place'] = location_split[0]\n",
    "df.head()"
   ]
  },
  {
   "cell_type": "markdown",
   "metadata": {},
   "source": [
    "## Combining columns\n",
    "假设通过空格来连接city和province两列"
   ]
  },
  {
   "cell_type": "code",
   "execution_count": null,
   "metadata": {},
   "outputs": [
    {
     "data": {
      "text/html": [
       "<div>\n",
       "<style scoped>\n",
       "    .dataframe tbody tr th:only-of-type {\n",
       "        vertical-align: middle;\n",
       "    }\n",
       "\n",
       "    .dataframe tbody tr th {\n",
       "        vertical-align: top;\n",
       "    }\n",
       "\n",
       "    .dataframe thead th {\n",
       "        text-align: right;\n",
       "    }\n",
       "</style>\n",
       "<table border=\"1\" class=\"dataframe\">\n",
       "  <thead>\n",
       "    <tr style=\"text-align: right;\">\n",
       "      <th></th>\n",
       "      <th>city</th>\n",
       "      <th>province</th>\n",
       "      <th>combine_location</th>\n",
       "    </tr>\n",
       "  </thead>\n",
       "  <tbody>\n",
       "    <tr>\n",
       "      <th>1</th>\n",
       "      <td>qingdao</td>\n",
       "      <td>shandong</td>\n",
       "      <td>qingdao shandong</td>\n",
       "    </tr>\n",
       "    <tr>\n",
       "      <th>2</th>\n",
       "      <td>shijiazhuang</td>\n",
       "      <td>hebei</td>\n",
       "      <td>shijiazhuang hebei</td>\n",
       "    </tr>\n",
       "    <tr>\n",
       "      <th>3</th>\n",
       "      <td>zhengzhou</td>\n",
       "      <td>henan</td>\n",
       "      <td>zhengzhou henan</td>\n",
       "    </tr>\n",
       "    <tr>\n",
       "      <th>4</th>\n",
       "      <td>taiyuan</td>\n",
       "      <td>shanxi</td>\n",
       "      <td>taiyuan shanxi</td>\n",
       "    </tr>\n",
       "  </tbody>\n",
       "</table>\n",
       "</div>"
      ],
      "text/plain": [
       "           city  province    combine_location\n",
       "1       qingdao  shandong    qingdao shandong\n",
       "2  shijiazhuang     hebei  shijiazhuang hebei\n",
       "3     zhengzhou     henan     zhengzhou henan\n",
       "4       taiyuan    shanxi      taiyuan shanxi"
      ]
     },
     "execution_count": 5,
     "metadata": {},
     "output_type": "execute_result"
    }
   ],
   "source": [
    "df['combine_location'] = df['city'].str.cat(df['province'], sep=' ')\n",
    "df[['city', 'province', 'combine_location']]"
   ]
  }
 ],
 "metadata": {
  "kernelspec": {
   "display_name": "base",
   "language": "python",
   "name": "python3"
  },
  "language_info": {
   "codemirror_mode": {
    "name": "ipython",
    "version": 3
   },
   "file_extension": ".py",
   "mimetype": "text/x-python",
   "name": "python",
   "nbconvert_exporter": "python",
   "pygments_lexer": "ipython3",
   "version": "3.9.13"
  }
 },
 "nbformat": 4,
 "nbformat_minor": 2
}
