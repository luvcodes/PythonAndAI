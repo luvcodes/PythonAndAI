{
 "cells": [
  {
   "metadata": {},
   "cell_type": "markdown",
   "source": "# Multiple columns merging",
   "id": "729ce880c171dd5a"
  },
  {
   "cell_type": "code",
   "id": "initial_id",
   "metadata": {
    "collapsed": true,
    "ExecuteTime": {
     "end_time": "2025-03-17T00:18:42.238264Z",
     "start_time": "2025-03-17T00:18:40.946957Z"
    }
   },
   "source": [
    "import pandas as pd\n",
    "\n",
    "# 假设我们有第一个 DataFrame（左表），其中待匹配的列名为 'colA' 和 'colB'\n",
    "df_left = pd.DataFrame({\n",
    "    'colA': ['A', 'B', 'C', 'D'],\n",
    "    'colB': [1, 2, 3, 4],\n",
    "    'value_left1': [10, 20, 30, 40],\n",
    "    'value_left2': ['apple', 'banana', 'peach', 'lemon']\n",
    "})\n",
    "\n",
    "# 第二个 DataFrame（右表），其中对应的匹配列名（与左表的列名不同）为 'keyA' 和 'keyB'\n",
    "df_right = pd.DataFrame({\n",
    "    'keyA': ['A', 'B', 'X', 'C'],\n",
    "    'keyB': [1, 2, 9, 3],\n",
    "    'value_right1': [100, 200, 300, 400],\n",
    "    'value_right2': ['red', 'yellow', 'purple', 'orange']\n",
    "})"
   ],
   "outputs": [],
   "execution_count": 2
  },
  {
   "metadata": {
    "ExecuteTime": {
     "end_time": "2025-03-17T00:19:20.713284Z",
     "start_time": "2025-03-17T00:19:20.664633Z"
    }
   },
   "cell_type": "code",
   "source": [
    "# 这里我们想用 df_left 的 colA、colB 来匹配 df_right 的 keyA、keyB\n",
    "# 列的位置要对应\n",
    "df_merged = pd.merge(\n",
    "    df_left,\n",
    "    df_right,\n",
    "    how='left', \n",
    "    left_on=['colA', 'colB'],\n",
    "    right_on=['keyA', 'keyB']\n",
    ")\n",
    "\n",
    "print(df_merged)"
   ],
   "id": "f47f5a8867006e29",
   "outputs": [
    {
     "name": "stdout",
     "output_type": "stream",
     "text": [
      "  colA  colB  value_left1 value_left2 keyA  keyB  value_right1 value_right2\n",
      "0    A     1           10       apple    A   1.0         100.0          red\n",
      "1    B     2           20      banana    B   2.0         200.0       yellow\n",
      "2    C     3           30       peach    C   3.0         400.0       orange\n",
      "3    D     4           40       lemon  NaN   NaN           NaN          NaN\n"
     ]
    }
   ],
   "execution_count": 4
  },
  {
   "metadata": {},
   "cell_type": "code",
   "outputs": [],
   "execution_count": null,
   "source": "",
   "id": "b0e67f191740a066"
  }
 ],
 "metadata": {
  "kernelspec": {
   "display_name": "Python 3",
   "language": "python",
   "name": "python3"
  },
  "language_info": {
   "codemirror_mode": {
    "name": "ipython",
    "version": 2
   },
   "file_extension": ".py",
   "mimetype": "text/x-python",
   "name": "python",
   "nbconvert_exporter": "python",
   "pygments_lexer": "ipython2",
   "version": "2.7.6"
  }
 },
 "nbformat": 4,
 "nbformat_minor": 5
}
