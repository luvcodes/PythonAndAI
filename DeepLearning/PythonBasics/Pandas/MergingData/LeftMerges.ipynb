{
 "cells": [
  {
   "cell_type": "markdown",
   "id": "7b8819dd4ecb233a",
   "metadata": {},
   "source": [
    "# Left merging"
   ]
  },
  {
   "cell_type": "code",
   "execution_count": 1,
   "id": "initial_id",
   "metadata": {
    "ExecuteTime": {
     "end_time": "2025-03-16T23:44:39.713778Z",
     "start_time": "2025-03-16T23:44:38.603897Z"
    },
    "collapsed": true
   },
   "outputs": [],
   "source": [
    "import pandas as pd\n",
    "X = pd.DataFrame({'Category':['A','B'], 'Value':[1,2]})\n",
    "Y = pd.DataFrame({'Category':['B','C'], 'Value':[3,4]})"
   ]
  },
  {
   "cell_type": "code",
   "execution_count": 2,
   "id": "d74879a6e6aa3240",
   "metadata": {
    "ExecuteTime": {
     "end_time": "2025-03-16T23:44:45.742831Z",
     "start_time": "2025-03-16T23:44:45.722718Z"
    }
   },
   "outputs": [
    {
     "name": "stdout",
     "output_type": "stream",
     "text": [
      "  Category  Value_x  Value_y\n",
      "0        A        1      NaN\n",
      "1        B        2      3.0\n"
     ]
    }
   ],
   "source": [
    "left_merges = pd.merge(left = X, right = Y, left_on = 'Category', right_on='Category', how='left')\n",
    "# Because NaN is not an integer value, pandas will convert any columns with NaNs\n",
    "# from the merge as floats.\n",
    "# This is why the 3 is displayed as 3.0.\n",
    "print(left_merges)"
   ]
  },
  {
   "cell_type": "markdown",
   "id": "3d9cae87ed72878c",
   "metadata": {},
   "source": [
    "Because **NaN is not an integer value**, **pandas will convert any columns with NaNs from the merge as floats**.\n",
    "This is why the 3 is displayed as 3.0."
   ]
  }
 ],
 "metadata": {
  "kernelspec": {
   "display_name": "Python 3",
   "language": "python",
   "name": "python3"
  },
  "language_info": {
   "codemirror_mode": {
    "name": "ipython",
    "version": 2
   },
   "file_extension": ".py",
   "mimetype": "text/x-python",
   "name": "python",
   "nbconvert_exporter": "python",
   "pygments_lexer": "ipython2",
   "version": "2.7.6"
  }
 },
 "nbformat": 4,
 "nbformat_minor": 5
}
