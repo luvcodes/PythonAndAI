{
 "cells": [
  {
   "cell_type": "code",
   "execution_count": 1,
   "id": "initial_id",
   "metadata": {
    "ExecuteTime": {
     "end_time": "2025-03-16T23:43:53.077923Z",
     "start_time": "2025-03-16T23:43:51.667521Z"
    },
    "collapsed": true
   },
   "outputs": [],
   "source": [
    "import pandas as pd\n",
    "\n",
    "# 体现一个example\n",
    "# Merges in pandas work by matching columns on the left to columns on the right.\n",
    "X = pd.DataFrame({\n",
    "    'Category': ['A', 'B'], 'Value': ['1', '2']\n",
    "})\n",
    "Y = pd.DataFrame({\n",
    "    'Category': ['B', 'C'], 'Value': ['3', '4']\n",
    "})\n"
   ]
  },
  {
   "cell_type": "code",
   "execution_count": 2,
   "id": "88a75cc7fd4a011c",
   "metadata": {
    "ExecuteTime": {
     "end_time": "2025-03-16T23:44:16.458906Z",
     "start_time": "2025-03-16T23:44:16.403337Z"
    }
   },
   "outputs": [
    {
     "data": {
      "text/html": [
       "<div>\n",
       "<style scoped>\n",
       "    .dataframe tbody tr th:only-of-type {\n",
       "        vertical-align: middle;\n",
       "    }\n",
       "\n",
       "    .dataframe tbody tr th {\n",
       "        vertical-align: top;\n",
       "    }\n",
       "\n",
       "    .dataframe thead th {\n",
       "        text-align: right;\n",
       "    }\n",
       "</style>\n",
       "<table border=\"1\" class=\"dataframe\">\n",
       "  <thead>\n",
       "    <tr style=\"text-align: right;\">\n",
       "      <th></th>\n",
       "      <th>Category</th>\n",
       "      <th>Value_x</th>\n",
       "      <th>Value_y</th>\n",
       "    </tr>\n",
       "  </thead>\n",
       "  <tbody>\n",
       "    <tr>\n",
       "      <th>0</th>\n",
       "      <td>B</td>\n",
       "      <td>2</td>\n",
       "      <td>3</td>\n",
       "    </tr>\n",
       "  </tbody>\n",
       "</table>\n",
       "</div>"
      ],
      "text/plain": [
       "  Category Value_x Value_y\n",
       "0        B       2       3"
      ]
     },
     "execution_count": 2,
     "metadata": {},
     "output_type": "execute_result"
    }
   ],
   "source": [
    "# 实现inner merge\n",
    "pd.merge(left=X, right=Y, left_on='Category', right_on='Category', how='inner')\n",
    "# print(merged_data)"
   ]
  },
  {
   "cell_type": "markdown",
   "id": "5f1866361bee5132",
   "metadata": {},
   "source": [
    "Inner Merge 类似于 SQL 中的 INNER JOIN，取交集；  \n",
    "Left Merge 类似于 SQL 中的 LEFT JOIN，取左表全部行，加上右表中能匹配到的值，匹配不到就填充 NaN。"
   ]
  }
 ],
 "metadata": {
  "kernelspec": {
   "display_name": "Python 3",
   "language": "python",
   "name": "python3"
  },
  "language_info": {
   "codemirror_mode": {
    "name": "ipython",
    "version": 2
   },
   "file_extension": ".py",
   "mimetype": "text/x-python",
   "name": "python",
   "nbconvert_exporter": "python",
   "pygments_lexer": "ipython2",
   "version": "2.7.6"
  }
 },
 "nbformat": 4,
 "nbformat_minor": 5
}
