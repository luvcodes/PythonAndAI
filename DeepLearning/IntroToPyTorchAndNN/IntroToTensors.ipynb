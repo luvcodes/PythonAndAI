{
 "cells": [
  {
   "cell_type": "markdown",
   "metadata": {},
   "source": [
    "# Intro to Tensors\n",
    "Tensor 就是一个多维数组。   \n",
    "它可以用来表示标量、向量、矩阵，甚至更高维的数据结构。你可以把它当作是 NumPy 数组 或 Python 的嵌套列表，只是它支持更多维度，并且可以在 GPU 上高效运行（尤其是在 PyTorch 和 TensorFlow 中）。"
   ]
  },
  {
   "cell_type": "markdown",
   "metadata": {},
   "source": [
    "## 创建Tensor\n",
    "直接传入integer"
   ]
  },
  {
   "cell_type": "code",
   "execution_count": null,
   "metadata": {},
   "outputs": [],
   "source": [
    "import pandas as pd\n",
    "import numpy as np\n",
    "import torch\n",
    "\n",
    "# define the apartment's rent\n",
    "rent = 2550\n",
    "# convert to an integer tensor\n",
    "rent_tensor = torch.tensor(rent, dtype=torch.int)"
   ]
  },
  {
   "cell_type": "markdown",
   "metadata": {},
   "source": [
    "传入数组"
   ]
  },
  {
   "cell_type": "code",
   "execution_count": null,
   "metadata": {},
   "outputs": [],
   "source": [
    "# create a numpy array with the rent in US dollars, size in square feet, and age in years\n",
    "apt_array = np.array([2550, 750, 3.5])\n",
    "# convert to a tensor of floats\n",
    "apt_tensor = torch.tensor(\n",
    "    apt_array, \n",
    "    dtype=torch.float)\n"
   ]
  },
  {
   "cell_type": "markdown",
   "metadata": {},
   "source": [
    "传入dataframe的values"
   ]
  },
  {
   "cell_type": "code",
   "execution_count": null,
   "metadata": {},
   "outputs": [],
   "source": [
    "# convert a DataFrame named df to a PyTorch tensor\n",
    "torch.tensor(\n",
    "    df.values, \n",
    "    dtype=torch.float)\n"
   ]
  },
  {
   "cell_type": "markdown",
   "metadata": {},
   "source": [
    "传入dataframe的单个列"
   ]
  },
  {
   "cell_type": "code",
   "execution_count": null,
   "metadata": {},
   "outputs": [],
   "source": [
    "torch.tensor(\n",
    "    df[['column']].values,\n",
    "    dtype=torch.float)\n"
   ]
  }
 ],
 "metadata": {
  "kernelspec": {
   "display_name": "Python 3",
   "language": "python",
   "name": "python3"
  },
  "language_info": {
   "codemirror_mode": {
    "name": "ipython",
    "version": 3
   },
   "file_extension": ".py",
   "mimetype": "text/x-python",
   "name": "python",
   "nbconvert_exporter": "python",
   "pygments_lexer": "ipython3",
   "version": "3.12.3"
  }
 },
 "nbformat": 4,
 "nbformat_minor": 2
}
