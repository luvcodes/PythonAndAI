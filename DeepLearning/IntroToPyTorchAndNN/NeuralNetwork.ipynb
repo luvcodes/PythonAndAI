{
 "cells": [
  {
   "cell_type": "markdown",
   "id": "f0a57600461dd6e6",
   "metadata": {},
   "source": [
    "# Build complete NN"
   ]
  },
  {
   "cell_type": "markdown",
   "id": "a50df310",
   "metadata": {},
   "source": [
    "## 引入必要的包"
   ]
  },
  {
   "cell_type": "code",
   "execution_count": 1,
   "id": "658905ae4567d55e",
   "metadata": {},
   "outputs": [],
   "source": [
    "import torch\n",
    "import torch.nn as nn\n",
    "import torch.optim as optim\n",
    "import pandas as pd"
   ]
  },
  {
   "cell_type": "code",
   "execution_count": 2,
   "id": "initial_id",
   "metadata": {
    "collapsed": true
   },
   "outputs": [
    {
     "data": {
      "text/html": [
       "<div>\n",
       "<style scoped>\n",
       "    .dataframe tbody tr th:only-of-type {\n",
       "        vertical-align: middle;\n",
       "    }\n",
       "\n",
       "    .dataframe tbody tr th {\n",
       "        vertical-align: top;\n",
       "    }\n",
       "\n",
       "    .dataframe thead th {\n",
       "        text-align: right;\n",
       "    }\n",
       "</style>\n",
       "<table border=\"1\" class=\"dataframe\">\n",
       "  <thead>\n",
       "    <tr style=\"text-align: right;\">\n",
       "      <th></th>\n",
       "      <th>bedrooms</th>\n",
       "      <th>bathrooms</th>\n",
       "      <th>size_sqft</th>\n",
       "      <th>rent</th>\n",
       "    </tr>\n",
       "  </thead>\n",
       "  <tbody>\n",
       "    <tr>\n",
       "      <th>0</th>\n",
       "      <td>1</td>\n",
       "      <td>1</td>\n",
       "      <td>500</td>\n",
       "      <td>2500</td>\n",
       "    </tr>\n",
       "    <tr>\n",
       "      <th>1</th>\n",
       "      <td>2</td>\n",
       "      <td>1</td>\n",
       "      <td>700</td>\n",
       "      <td>3200</td>\n",
       "    </tr>\n",
       "    <tr>\n",
       "      <th>2</th>\n",
       "      <td>2</td>\n",
       "      <td>2</td>\n",
       "      <td>850</td>\n",
       "      <td>4000</td>\n",
       "    </tr>\n",
       "    <tr>\n",
       "      <th>3</th>\n",
       "      <td>3</td>\n",
       "      <td>2</td>\n",
       "      <td>950</td>\n",
       "      <td>4500</td>\n",
       "    </tr>\n",
       "    <tr>\n",
       "      <th>4</th>\n",
       "      <td>1</td>\n",
       "      <td>1</td>\n",
       "      <td>550</td>\n",
       "      <td>2600</td>\n",
       "    </tr>\n",
       "  </tbody>\n",
       "</table>\n",
       "</div>"
      ],
      "text/plain": [
       "   bedrooms  bathrooms  size_sqft  rent\n",
       "0         1          1        500  2500\n",
       "1         2          1        700  3200\n",
       "2         2          2        850  4000\n",
       "3         3          2        950  4500\n",
       "4         1          1        550  2600"
      ]
     },
     "execution_count": 2,
     "metadata": {},
     "output_type": "execute_result"
    }
   ],
   "source": [
    "# 设置随机种子\n",
    "torch.manual_seed(42)\n",
    "\n",
    "# ✅ 自定义 DataFrame\n",
    "data = {\n",
    "    'bedrooms': [1, 2, 2, 3, 1],\n",
    "    'bathrooms': [1, 1, 2, 2, 1],\n",
    "    'size_sqft': [500, 700, 850, 950, 550],\n",
    "    'rent': [2500, 3200, 4000, 4500, 2600]\n",
    "}\n",
    "apartments_df = pd.DataFrame(data)\n",
    "apartments_df"
   ]
  },
  {
   "cell_type": "markdown",
   "id": "5d811a62",
   "metadata": {},
   "source": [
    "## 创建神经网络"
   ]
  },
  {
   "cell_type": "code",
   "execution_count": null,
   "id": "db9616d5",
   "metadata": {},
   "outputs": [],
   "source": [
    "# ✅ 特征与目标\n",
    "numerical_features = ['bedrooms', 'bathrooms', 'size_sqft']\n",
    "X = torch.tensor(apartments_df[numerical_features].values, dtype=torch.float32)\n",
    "y = torch.tensor(apartments_df['rent'].values, dtype=torch.float32).view(-1, 1)  # 保证是列向量\n",
    "\n",
    "# ✅ 定义神经网络\n",
    "model = nn.Sequential(\n",
    "    nn.Linear(3, 16),\n",
    "    nn.ReLU(),\n",
    "    nn.Linear(16, 8),\n",
    "    nn.ReLU(),\n",
    "    nn.Linear(8, 4),\n",
    "    nn.ReLU(),\n",
    "    nn.Linear(4, 1)\n",
    ")"
   ]
  },
  {
   "cell_type": "markdown",
   "id": "ae5eb9c3",
   "metadata": {},
   "source": [
    "## 定义损失函数、优化器"
   ]
  },
  {
   "cell_type": "code",
   "execution_count": null,
   "id": "27a486ff",
   "metadata": {},
   "outputs": [],
   "source": [
    "# ✅ 定义损失函数和优化器\n",
    "loss_fn = nn.MSELoss()\n",
    "optimizer = optim.Adam(model.parameters(), lr=0.001)\n",
    "\n",
    "# ✅ 第一次前向传播\n",
    "predictions = model(X)\n",
    "\n",
    "# 计算损失\n",
    "loss = loss_fn(predictions, y) \n",
    "print(\"Initial loss:\", loss.item())"
   ]
  },
  {
   "cell_type": "markdown",
   "id": "d4b584aa",
   "metadata": {},
   "source": [
    "## 反向传播"
   ]
  },
  {
   "cell_type": "code",
   "execution_count": null,
   "id": "153bafeb",
   "metadata": {},
   "outputs": [],
   "source": [
    "# ✅ 反向传播 + 更新\n",
    "loss.backward() # 把backward理解为计算梯度，也就是判断下山的方向\n",
    "optimizer.step() # 把step理解为更新参数，也就是沿着梯度的方向走一步"
   ]
  },
  {
   "cell_type": "code",
   "execution_count": null,
   "id": "8ae07f3f",
   "metadata": {},
   "outputs": [],
   "source": [
    "# ✅ 再次前向传播\n",
    "predictions = model(X)\n",
    "loss = loss_fn(predictions, y)\n",
    "print(\"Loss after 1 optimization step:\", loss.item())"
   ]
  },
  {
   "cell_type": "markdown",
   "id": "8c08998d",
   "metadata": {},
   "source": [
    "# 放入循环持续更新"
   ]
  },
  {
   "cell_type": "code",
   "execution_count": null,
   "id": "daf2d46b",
   "metadata": {},
   "outputs": [],
   "source": [
    "# MSE loss function + optimizer\n",
    "loss = nn.MSELoss()\n",
    "optimizer = optim.Adam(model.parameters(), lr=0.001)\n",
    "\n",
    "## YOUR SOLUTION HERE ##\n",
    "num_epochs = 1000\n",
    "for epoch in range(num_epochs):\n",
    "    prediction = model(X) # 算prediction\n",
    "    MSE = loss(prediction, y) # 算loss\n",
    "    MSE.backward() # 开始反向传播，PyTorch 会自动计算 损失函数对模型参数的梯度 (看成是计算下山的方向)\n",
    "    optimizer.step() # 根据刚才计算出的梯度，沿着梯度方向更新模型参数，也就是模型参数往损失函数减小的方向走一步 (下山)\n",
    "    optimizer.zero_grad() # 清空梯度，为下一个epoch做准备\n",
    "    \n",
    "    ## DO NOT MODIFY ##\n",
    "    # keep track of the loss during training\n",
    "    if (epoch + 1) % 100 == 0:\n",
    "        print(f'Epoch [{epoch + 1}/{num_epochs}], MSE Loss: {MSE.item()}')"
   ]
  }
 ],
 "metadata": {
  "kernelspec": {
   "display_name": "base",
   "language": "python",
   "name": "python3"
  },
  "language_info": {
   "codemirror_mode": {
    "name": "ipython",
    "version": 3
   },
   "file_extension": ".py",
   "mimetype": "text/x-python",
   "name": "python",
   "nbconvert_exporter": "python",
   "pygments_lexer": "ipython3",
   "version": "3.11.7"
  }
 },
 "nbformat": 4,
 "nbformat_minor": 5
}
