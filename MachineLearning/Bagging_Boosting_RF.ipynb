{
  "nbformat": 4,
  "nbformat_minor": 0,
  "metadata": {
    "colab": {
      "provenance": []
    },
    "kernelspec": {
      "name": "python3",
      "display_name": "Python 3"
    },
    "language_info": {
      "name": "python"
    }
  },
  "cells": [
    {
      "cell_type": "markdown",
      "source": [
        "# Bagging、Boosting、Random Forest\n",
        "代码实现"
      ],
      "metadata": {
        "id": "E1dADMMu3Obt"
      }
    },
    {
      "cell_type": "code",
      "execution_count": 10,
      "metadata": {
        "id": "RhjFNr3G3E0A"
      },
      "outputs": [],
      "source": [
        "# 引入数据集及相关方法库\n",
        "import pandas as pd\n",
        "from sklearn.datasets import load_iris\n",
        "from sklearn.model_selection import train_test_split\n",
        "from sklearn.metrics import accuracy_score\n",
        "from sklearn.tree import DecisionTreeClassifier\n",
        "from sklearn.ensemble import BaggingClassifier, RandomForestClassifier, AdaBoostClassifier"
      ]
    },
    {
      "cell_type": "code",
      "source": [
        "X, y = load_iris(return_X_y=True)\n",
        "X_train, X_test, y_train, y_test = train_test_split(X, y, test_size=0.3, random_state=42)\n",
        "X.shape, y.shape, X_train.shape, X_test.shape, y_train.shape, y_test.shape"
      ],
      "metadata": {
        "colab": {
          "base_uri": "https://localhost:8080/"
        },
        "id": "6EtSDMCZ3TUM",
        "outputId": "bc49a912-cf67-48c9-f9d3-32808def4be1"
      },
      "execution_count": 8,
      "outputs": [
        {
          "output_type": "execute_result",
          "data": {
            "text/plain": [
              "((150, 4), (150,), (105, 4), (45, 4), (105,), (45,))"
            ]
          },
          "metadata": {},
          "execution_count": 8
        }
      ]
    },
    {
      "cell_type": "markdown",
      "source": [
        "## Bagging\n",
        "使用的是DecisionTree classifier，estimator的数量等同于训练多少个base learner。   \n",
        "- Bagging 会对训练集进行 10 次有放回抽样，每次抽取的数据都用于训练一棵树。\n",
        "- 最终的预测结果是这 10 棵树的 多数投票（分类） 或 平均值（回归）。"
      ],
      "metadata": {
        "id": "W-Vnyp8c4M_Z"
      }
    },
    {
      "cell_type": "markdown",
      "source": [
        "### 举例说明\n",
        "假设训练集有 100 条样本；  \n",
        "你设置 n_estimators = 10，意味着你将训练 10 棵树；  \n",
        "对于第 1 棵树，它会从原始 100 条样本中，随机采样 100 次，有放回；\n",
        "- 所以有些样本可能会被重复抽中；\n",
        "- 有些样本可能一次都没被抽中；  \n",
        "   \n",
        "重复以上过程，共构造 10 个不同的训练子集（每个包含 100 条样本，但来源不同）；然后分别训练 10 棵树，最后对预测结果做投票（分类）或平均（回归）。  \n",
        "抽样是 `BaggingClassifier` 做的，不是 `DecisionTreeClassifier`。"
      ],
      "metadata": {
        "id": "d-ph8XjP5-QR"
      }
    },
    {
      "cell_type": "code",
      "source": [
        "# 1. Bagging\n",
        "bagging_model = BaggingClassifier(\n",
        "    estimator=DecisionTreeClassifier(),\n",
        "    n_estimators=10, # 训练10个base learner\n",
        "    random_state=42\n",
        ")\n",
        "bagging_model.fit(X_train, y_train)\n",
        "bagging_preds = bagging_model.predict(X_test)\n",
        "print(\"Bagging Accuracy:\", accuracy_score(y_test, bagging_preds))"
      ],
      "metadata": {
        "colab": {
          "base_uri": "https://localhost:8080/"
        },
        "id": "yE4zectR3dMq",
        "outputId": "2cbb139a-355f-4bff-c2f8-1f4c54045975"
      },
      "execution_count": 12,
      "outputs": [
        {
          "output_type": "stream",
          "name": "stdout",
          "text": [
            "Bagging Accuracy: 1.0\n"
          ]
        }
      ]
    },
    {
      "cell_type": "markdown",
      "source": [
        "## Random Forest"
      ],
      "metadata": {
        "id": "vStTIfmZ4Okn"
      }
    },
    {
      "cell_type": "code",
      "source": [
        "# 2. Random Forest\n",
        "rf_model = RandomForestClassifier(n_estimators=100, random_state=42)\n",
        "rf_model.fit(X_train, y_train)\n",
        "rf_preds = rf_model.predict(X_test)\n",
        "print(\"Random Forest Accuracy:\", accuracy_score(y_test, rf_preds))"
      ],
      "metadata": {
        "colab": {
          "base_uri": "https://localhost:8080/"
        },
        "id": "ThgpMfTn4K7Y",
        "outputId": "49f37dfd-707f-4ae5-84ea-3f44de7698ed"
      },
      "execution_count": 13,
      "outputs": [
        {
          "output_type": "stream",
          "name": "stdout",
          "text": [
            "Random Forest Accuracy: 1.0\n"
          ]
        }
      ]
    },
    {
      "cell_type": "markdown",
      "source": [
        "## Boosting\n",
        "AdaBoost in this case"
      ],
      "metadata": {
        "id": "nk8g7IRU4RRy"
      }
    },
    {
      "cell_type": "code",
      "source": [
        "# 3. Boosting - AdaBoost\n",
        "boosting_model = AdaBoostClassifier(\n",
        "    estimator=DecisionTreeClassifier(max_depth=1),\n",
        "    n_estimators=50,\n",
        "    learning_rate=1.0,\n",
        "    random_state=42\n",
        ")\n",
        "boosting_model.fit(X_train, y_train)\n",
        "boosting_preds = boosting_model.predict(X_test)\n",
        "print(\"AdaBoost Accuracy:\", accuracy_score(y_test, boosting_preds))"
      ],
      "metadata": {
        "colab": {
          "base_uri": "https://localhost:8080/"
        },
        "id": "9AN9nIOp4Unm",
        "outputId": "3cd98bc8-3235-4f39-8701-d2e6d732c033"
      },
      "execution_count": 15,
      "outputs": [
        {
          "output_type": "stream",
          "name": "stdout",
          "text": [
            "AdaBoost Accuracy: 1.0\n"
          ]
        }
      ]
    }
  ]
}