{
 "cells": [
  {
   "cell_type": "markdown",
   "metadata": {},
   "source": [
    "# Numpy\n",
    "## 算术运算\n",
    "Numpy的算术运算"
   ]
  },
  {
   "cell_type": "code",
   "execution_count": 9,
   "metadata": {},
   "outputs": [
    {
     "name": "stdout",
     "output_type": "stream",
     "text": [
      "a * b:  [[ 3  0]\n",
      " [ 0 24]] \n",
      "\n",
      "a dob b:  [[ 3 12]\n",
      " [ 9 24]] \n",
      "\n",
      "c:  [[10 20 30]\n",
      " [40 50 60]]\n"
     ]
    }
   ],
   "source": [
    "import numpy as np\n",
    "\n",
    "\n",
    "a = np.array([[1,2],[3,4]])\n",
    "b = np.array([[3,0],[0,6]])\n",
    "\n",
    "# 这样是逐元素相乘，而不是矩阵点乘\n",
    "print(\"a * b: \", a * b, \"\\n\")\n",
    "\n",
    "# 矩阵点乘\n",
    "print(\"a dob b: \", np.dot(a, b), \"\\n\")\n",
    "\n",
    "c = np.array([[1,2,3],[4,5,6]])\n",
    "print(\"c: \", c * 10)"
   ]
  },
  {
   "cell_type": "markdown",
   "metadata": {},
   "source": [
    "## 广播\n",
    "NumPy中，形状不同的数组之间也可以进行运算。在2×2 的矩阵A和标量10之间进行了乘法运算，标量10被扩展成了2 × 2 的形状，然后再与矩阵A进行乘法运算，这个巧妙的功能称为广播（broadcast）。"
   ]
  },
  {
   "cell_type": "code",
   "execution_count": 12,
   "metadata": {},
   "outputs": [
    {
     "name": "stdout",
     "output_type": "stream",
     "text": [
      "A * B:  [[10 40]\n",
      " [30 80]]\n"
     ]
    }
   ],
   "source": [
    "A = np.array([[1,2], [3,4]])\n",
    "B = np.array([[10, 20]])\n",
    "\n",
    "print(\"A * B: \", A * B)"
   ]
  },
  {
   "cell_type": "markdown",
   "metadata": {},
   "source": [
    "## 访问元素"
   ]
  },
  {
   "cell_type": "code",
   "execution_count": 22,
   "metadata": {},
   "outputs": [
    {
     "name": "stdout",
     "output_type": "stream",
     "text": [
      "[51 55]\n",
      "[14 19]\n",
      "[0 4]\n",
      "55\n",
      "[51 55 14 19  0  4]\n",
      "[51 14  0]\n",
      "[51 55 19]\n"
     ]
    }
   ],
   "source": [
    "X = np.array([[51, 55], [14, 19], [0, 4]])\n",
    "# 循环访问X的每一行\n",
    "for row in X:\n",
    "    print(row)\n",
    "\n",
    "# 根据索引访问X的元素\n",
    "print(X[0][1])\n",
    "\n",
    "# 使用数组访问X的元素\n",
    "X = X.flatten()\n",
    "print(X)\n",
    "print(X[np.array([0, 2, 4])])\n",
    "print(X[X > 15])"
   ]
  }
 ],
 "metadata": {
  "kernelspec": {
   "display_name": "base",
   "language": "python",
   "name": "python3"
  },
  "language_info": {
   "codemirror_mode": {
    "name": "ipython",
    "version": 3
   },
   "file_extension": ".py",
   "mimetype": "text/x-python",
   "name": "python",
   "nbconvert_exporter": "python",
   "pygments_lexer": "ipython3",
   "version": "3.11.7"
  }
 },
 "nbformat": 4,
 "nbformat_minor": 2
}
