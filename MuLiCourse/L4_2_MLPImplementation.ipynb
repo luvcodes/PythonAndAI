{
 "cells": [
  {
   "cell_type": "markdown",
   "id": "23fcb670",
   "metadata": {},
   "source": [
    "# 4.2 MLP的从零实现"
   ]
  },
  {
   "cell_type": "code",
   "execution_count": 1,
   "id": "2044c130",
   "metadata": {},
   "outputs": [],
   "source": [
    "import torch\n",
    "from torch import nn\n",
    "from d2l import torch as d2l\n",
    "\n",
    "batch_size = 256\n",
    "train_iter, test_iter = d2l.load_data_fashion_mnist(batch_size)"
   ]
  },
  {
   "cell_type": "markdown",
   "id": "9573de38",
   "metadata": {},
   "source": [
    "## 4.2.1 初始化模型参数\n",
    "Fashion-MNIST中的每个图像由28x28 = 784个灰度像素值组成。 所有图像共分为10个类别。 忽略像素之间的空间结构， 我们可以将每个图像视为具有784个输入特征 和10个类的简单分类数据集。   \n",
    "首先实现一个具有单hidden layer的MLP，它包含256个隐藏单元。"
   ]
  }
 ],
 "metadata": {
  "kernelspec": {
   "display_name": "d2l-env",
   "language": "python",
   "name": "python3"
  },
  "language_info": {
   "codemirror_mode": {
    "name": "ipython",
    "version": 3
   },
   "file_extension": ".py",
   "mimetype": "text/x-python",
   "name": "python",
   "nbconvert_exporter": "python",
   "pygments_lexer": "ipython3",
   "version": "3.10.16"
  }
 },
 "nbformat": 4,
 "nbformat_minor": 5
}
