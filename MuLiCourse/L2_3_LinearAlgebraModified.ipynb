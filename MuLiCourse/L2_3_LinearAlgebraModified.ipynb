{
  "nbformat": 4,
  "nbformat_minor": 0,
  "metadata": {
    "colab": {
      "provenance": [],
      "toc_visible": true
    },
    "kernelspec": {
      "name": "python3",
      "display_name": "Python 3"
    },
    "language_info": {
      "name": "python"
    }
  },
  "cells": [
    {
      "cell_type": "markdown",
      "source": [
        "# 2.3 线性代数"
      ],
      "metadata": {
        "id": "c_47jY_jdKwJ"
      }
    },
    {
      "cell_type": "markdown",
      "source": [
        "## 2.3.1 标亮\n",
        "严格来说，仅包含一个数值被称为标量（scalar）"
      ],
      "metadata": {
        "id": "svs7t1P2dcKx"
      }
    },
    {
      "cell_type": "code",
      "execution_count": null,
      "metadata": {
        "colab": {
          "base_uri": "https://localhost:8080/"
        },
        "id": "PCll_SKGdCeg",
        "outputId": "c2b5f850-961e-40ad-edd1-a7ac54875c69"
      },
      "outputs": [
        {
          "output_type": "execute_result",
          "data": {
            "text/plain": [
              "(tensor(5.), tensor(1.), tensor(6.), tensor(1.5000))"
            ]
          },
          "metadata": {},
          "execution_count": 2
        }
      ],
      "source": [
        "import torch\n",
        "\n",
        "x = torch.tensor(3.0)\n",
        "y = torch.tensor(2.0)\n",
        "\n",
        "x + y, x - y, x * y, x / y"
      ]
    },
    {
      "cell_type": "markdown",
      "source": [
        "## 2.3.2 向量\n",
        "向量可以被视为标量值组成的列表。 这些标量值被称为向量的元素（element）或分量（component）。\n",
        "通过一维张量表示向量。一般来说，张量可以具有任意长度，取决于机器的内存限制。"
      ],
      "metadata": {
        "id": "iWTtDJ77eD_J"
      }
    },
    {
      "cell_type": "code",
      "source": [
        "vector = torch.arange(4)\n",
        "vector, vector[3], len(vector), vector.shape"
      ],
      "metadata": {
        "colab": {
          "base_uri": "https://localhost:8080/"
        },
        "id": "lOFQuP5ceLKA",
        "outputId": "ef12e4f4-1998-4d63-8dee-a83cec4cdd01"
      },
      "execution_count": null,
      "outputs": [
        {
          "output_type": "execute_result",
          "data": {
            "text/plain": [
              "(tensor([0, 1, 2, 3]), tensor(3), 4, torch.Size([4]))"
            ]
          },
          "metadata": {},
          "execution_count": 5
        }
      ]
    },
    {
      "cell_type": "markdown",
      "source": [
        "## 2.3.3 矩阵\n",
        "当调用函数来实例化张量时， 我们可以通过指定两个分量m和n\n",
        "来创建一个形状为m * n的矩阵。"
      ],
      "metadata": {
        "id": "L26qTDZGeqzR"
      }
    },
    {
      "cell_type": "code",
      "source": [
        "aMatrix = torch.arange(20).reshape(5, 4)\n",
        "aMatrix, aMatrix.T"
      ],
      "metadata": {
        "colab": {
          "base_uri": "https://localhost:8080/"
        },
        "id": "_qn49goNe18h",
        "outputId": "0896c072-0075-40cf-948a-6f1b5deabe83"
      },
      "execution_count": null,
      "outputs": [
        {
          "output_type": "execute_result",
          "data": {
            "text/plain": [
              "(tensor([[ 0,  1,  2,  3],\n",
              "         [ 4,  5,  6,  7],\n",
              "         [ 8,  9, 10, 11],\n",
              "         [12, 13, 14, 15],\n",
              "         [16, 17, 18, 19]]),\n",
              " tensor([[ 0,  4,  8, 12, 16],\n",
              "         [ 1,  5,  9, 13, 17],\n",
              "         [ 2,  6, 10, 14, 18],\n",
              "         [ 3,  7, 11, 15, 19]]))"
            ]
          },
          "metadata": {},
          "execution_count": 10
        }
      ]
    },
    {
      "cell_type": "markdown",
      "source": [
        "作为方阵的一种特殊类型，对称矩阵（symmetric matrix），矩阵本身等于其对称矩阵"
      ],
      "metadata": {
        "id": "37lF-J2rfmSG"
      }
    },
    {
      "cell_type": "code",
      "source": [
        "bMatrix = torch.tensor([[1, 2, 3], [2, 0, 4], [3, 4, 5]])\n",
        "bMatrix, bMatrix == bMatrix.T"
      ],
      "metadata": {
        "colab": {
          "base_uri": "https://localhost:8080/"
        },
        "id": "3uD38myAfvuv",
        "outputId": "1116f7fb-3a36-4f64-dedf-9d116304a64b"
      },
      "execution_count": null,
      "outputs": [
        {
          "output_type": "execute_result",
          "data": {
            "text/plain": [
              "(tensor([[1, 2, 3],\n",
              "         [2, 0, 4],\n",
              "         [3, 4, 5]]),\n",
              " tensor([[True, True, True],\n",
              "         [True, True, True],\n",
              "         [True, True, True]]))"
            ]
          },
          "metadata": {},
          "execution_count": 11
        }
      ]
    },
    {
      "cell_type": "markdown",
      "source": [
        "## 2.3.4 张量 - n维数组\n",
        "张量是描述具有任意数量轴的n维数组的通用方法。   \n",
        "当我们开始处理图像时，张量将变得更加重要，图像以n维数组形式出现， 其中3个轴对应于高度、宽度，以及一个通道（channel）轴， 用于表示颜色通道（红色、绿色和蓝色）。"
      ],
      "metadata": {
        "id": "hoQMNHUGgEFU"
      }
    },
    {
      "cell_type": "code",
      "source": [
        "aTensor = torch.arange(24).reshape(2, 3, 4)\n",
        "aTensor"
      ],
      "metadata": {
        "colab": {
          "base_uri": "https://localhost:8080/"
        },
        "id": "Q0Ke6vVQgRkW",
        "outputId": "575ab2c4-0509-41c6-cf71-95efe89592a4"
      },
      "execution_count": null,
      "outputs": [
        {
          "output_type": "execute_result",
          "data": {
            "text/plain": [
              "tensor([[[ 0,  1,  2,  3],\n",
              "         [ 4,  5,  6,  7],\n",
              "         [ 8,  9, 10, 11]],\n",
              "\n",
              "        [[12, 13, 14, 15],\n",
              "         [16, 17, 18, 19],\n",
              "         [20, 21, 22, 23]]])"
            ]
          },
          "metadata": {},
          "execution_count": 13
        }
      ]
    },
    {
      "cell_type": "markdown",
      "source": [
        "## 2.3.5 张量算法的一元、二元运算\n",
        "从按元素操作的定义中可以注意到，任何按元素的一元运算都不会改变其操作数的形状。 同样，给定具有相同形状的任意两个张量，任何按元素二元运算的结果都将是相同形状的张量。 例如，将两个相同形状的矩阵相加，会在这两个矩阵上执行元素加法。"
      ],
      "metadata": {
        "id": "MZpFoREwgxsk"
      }
    },
    {
      "cell_type": "code",
      "source": [
        "A = torch.arange(12, dtype=torch.float32).reshape(3, 4)\n",
        "B = A.clone()\n",
        "A, B, A == B, A + B, A * B"
      ],
      "metadata": {
        "colab": {
          "base_uri": "https://localhost:8080/"
        },
        "id": "P-D_-fgug6Tm",
        "outputId": "1f39ad3b-0c53-46fb-a3c9-70fed84e7758"
      },
      "execution_count": null,
      "outputs": [
        {
          "output_type": "execute_result",
          "data": {
            "text/plain": [
              "(tensor([[ 0.,  1.,  2.,  3.],\n",
              "         [ 4.,  5.,  6.,  7.],\n",
              "         [ 8.,  9., 10., 11.]]),\n",
              " tensor([[ 0.,  1.,  2.,  3.],\n",
              "         [ 4.,  5.,  6.,  7.],\n",
              "         [ 8.,  9., 10., 11.]]),\n",
              " tensor([[True, True, True, True],\n",
              "         [True, True, True, True],\n",
              "         [True, True, True, True]]),\n",
              " tensor([[ 0.,  2.,  4.,  6.],\n",
              "         [ 8., 10., 12., 14.],\n",
              "         [16., 18., 20., 22.]]),\n",
              " tensor([[  0.,   1.,   4.,   9.],\n",
              "         [ 16.,  25.,  36.,  49.],\n",
              "         [ 64.,  81., 100., 121.]]))"
            ]
          },
          "metadata": {},
          "execution_count": 17
        }
      ]
    },
    {
      "cell_type": "code",
      "source": [
        "a = 2\n",
        "X = torch.arange(24).reshape(2, 3, 4)\n",
        "a + X, (a * X).shape"
      ],
      "metadata": {
        "colab": {
          "base_uri": "https://localhost:8080/"
        },
        "id": "vFYppFJfh8tk",
        "outputId": "f81f14fe-3f4d-4f54-c083-8f2bd54437cd"
      },
      "execution_count": null,
      "outputs": [
        {
          "output_type": "execute_result",
          "data": {
            "text/plain": [
              "(tensor([[[ 2,  3,  4,  5],\n",
              "          [ 6,  7,  8,  9],\n",
              "          [10, 11, 12, 13]],\n",
              " \n",
              "         [[14, 15, 16, 17],\n",
              "          [18, 19, 20, 21],\n",
              "          [22, 23, 24, 25]]]),\n",
              " torch.Size([2, 3, 4]))"
            ]
          },
          "metadata": {},
          "execution_count": 18
        }
      ]
    },
    {
      "cell_type": "markdown",
      "source": [
        "## 2.3.6 降维 (求和的方式)\n",
        "我们可以对任意张量进行的计算其元素的和, 计算元素的和这个方式实际上就是在体现降维。   \n",
        "默认情况下，调用求和函数会沿所有的轴降低张量的维度，使它变为一个标量。   \n",
        "我们还可以指定张量沿哪一个轴来通过求和降低维度。以矩阵为例，为了通过**求和所有行**的元素来降维（轴0），可以在调用函数时指定axis=0。 如果是求和所有列，那么就是轴1，指定axis=1即可。   \n",
        "\n",
        "**可以理解成axis=0的时候就是把行压扁，竖着求和**。\n"
      ],
      "metadata": {
        "id": "PEqIKN4ljJt0"
      }
    },
    {
      "cell_type": "code",
      "source": [
        "x = torch.arange(12).reshape(3, 4)\n",
        "# A = torch.arange(24).reshape(2, 3, 4)\n",
        "A = torch.arange(20, dtype=torch.float32).reshape(5, 4)\n",
        "# 按照行来求和\n",
        "A_sum_axis0 = A.sum(axis=0)\n",
        "B_sum_axis1 = A.sum(axis=1)\n",
        "x, x.sum(), A, A.sum(), A_sum_axis0, A_sum_axis0.shape, B_sum_axis1, B_sum_axis1.shape"
      ],
      "metadata": {
        "colab": {
          "base_uri": "https://localhost:8080/"
        },
        "id": "rveQj-AsjVsg",
        "outputId": "7bd17edc-7b5c-4760-9178-9641e78e000a"
      },
      "execution_count": null,
      "outputs": [
        {
          "output_type": "execute_result",
          "data": {
            "text/plain": [
              "(tensor([[ 0,  1,  2,  3],\n",
              "         [ 4,  5,  6,  7],\n",
              "         [ 8,  9, 10, 11]]),\n",
              " tensor(66),\n",
              " tensor([[ 0.,  1.,  2.,  3.],\n",
              "         [ 4.,  5.,  6.,  7.],\n",
              "         [ 8.,  9., 10., 11.],\n",
              "         [12., 13., 14., 15.],\n",
              "         [16., 17., 18., 19.]]),\n",
              " tensor(190.),\n",
              " tensor([40., 45., 50., 55.]),\n",
              " torch.Size([4]),\n",
              " tensor([ 6., 22., 38., 54., 70.]),\n",
              " torch.Size([5]))"
            ]
          },
          "metadata": {},
          "execution_count": 31
        }
      ]
    },
    {
      "cell_type": "code",
      "source": [
        "A.mean(), A.sum()/A.numel(), A.mean(axis=0), A.sum(axis=0) / A.shape[0]"
      ],
      "metadata": {
        "colab": {
          "base_uri": "https://localhost:8080/"
        },
        "id": "XvpXhyRJnAIr",
        "outputId": "5d8637e8-07e2-49c5-eeb6-9784b0dcf46e"
      },
      "execution_count": null,
      "outputs": [
        {
          "output_type": "execute_result",
          "data": {
            "text/plain": [
              "(tensor(9.5000),\n",
              " tensor(9.5000),\n",
              " tensor([ 8.,  9., 10., 11.]),\n",
              " tensor([ 8.,  9., 10., 11.]))"
            ]
          },
          "metadata": {},
          "execution_count": 32
        }
      ]
    },
    {
      "cell_type": "markdown",
      "source": [
        "## 2.3.7 点积\n",
        "实现点积有两种方式:\n",
        "1. 通过使用`torch.dot()`来实现点积\n",
        "2. 通过使用`*`符号进行元素乘法再进行`sum()`求和"
      ],
      "metadata": {
        "id": "XFKP8gcKv6Ev"
      }
    },
    {
      "cell_type": "code",
      "source": [
        "x = torch.arange(4, dtype=torch.float32)\n",
        "y = torch.ones(4, dtype=torch.float32)\n",
        "# x.dot(y)\n",
        "torch.dot(x, y), sum(x * y)"
      ],
      "metadata": {
        "colab": {
          "base_uri": "https://localhost:8080/"
        },
        "id": "lfp-iMrq9uMU",
        "outputId": "00ccff1e-58d2-4eaf-f668-3925c23712af"
      },
      "execution_count": 38,
      "outputs": [
        {
          "output_type": "execute_result",
          "data": {
            "text/plain": [
              "(tensor(6.), tensor(6.))"
            ]
          },
          "metadata": {},
          "execution_count": 38
        }
      ]
    }
  ]
}