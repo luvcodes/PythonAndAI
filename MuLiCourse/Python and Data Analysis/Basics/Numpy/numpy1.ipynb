{
 "cells": [
  {
   "cell_type": "code",
   "execution_count": 5,
   "metadata": {},
   "outputs": [
    {
     "name": "stdout",
     "output_type": "stream",
     "text": [
      "[[ 3  0]\n",
      " [ 0 24]] \n",
      "\n",
      "[[ 3 12]\n",
      " [ 9 24]]\n"
     ]
    }
   ],
   "source": [
    "import numpy as np\n",
    "\n",
    "\n",
    "a = np.array([[1,2],[3,4]])\n",
    "b = np.array([[3,0],[0,6]])\n",
    "\n",
    "# 这样是逐元素相乘，而不是矩阵点乘\n",
    "print(a * b, \"\\n\")\n",
    "\n",
    "# 矩阵点乘\n",
    "print(np.dot(a, b))"
   ]
  }
 ],
 "metadata": {
  "kernelspec": {
   "display_name": "base",
   "language": "python",
   "name": "python3"
  },
  "language_info": {
   "codemirror_mode": {
    "name": "ipython",
    "version": 3
   },
   "file_extension": ".py",
   "mimetype": "text/x-python",
   "name": "python",
   "nbconvert_exporter": "python",
   "pygments_lexer": "ipython3",
   "version": "3.11.7"
  }
 },
 "nbformat": 4,
 "nbformat_minor": 2
}
