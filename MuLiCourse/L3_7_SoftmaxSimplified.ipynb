{
 "cells": [
  {
   "cell_type": "markdown",
   "id": "e76738f4-0230-49be-a52b-952ed00f6ec9",
   "metadata": {},
   "source": [
    "# 3.7 softmax回归的简洁实现"
   ]
  },
  {
   "cell_type": "code",
   "execution_count": 2,
   "id": "9a059ded-d572-409d-89b3-163993af360a",
   "metadata": {},
   "outputs": [],
   "source": [
    "import torch\n",
    "from torch import nn\n",
    "from d2l import torch as d2l\n",
    "\n",
    "batch_size = 256\n",
    "train_iter, test_iter = d2l.load_data_fashion_mnist(batch_size)"
   ]
  },
  {
   "cell_type": "markdown",
   "id": "b5428c74-2f30-4bcd-b2d1-2c4db0d121ed",
   "metadata": {},
   "source": [
    "## 3.7.1 初始化模型参数"
   ]
  },
  {
   "cell_type": "code",
   "execution_count": 5,
   "id": "072d1b50-4cd0-4ef3-aa67-cae08a9fd181",
   "metadata": {},
   "outputs": [],
   "source": [
    "# PyTorch不会隐式地调整输入的形状。因此，\n",
    "# 我们在线性层前定义了展平层（flatten），来调整网络输入的形状\n",
    "net = nn.Sequential(nn.Flatten(), nn.Linear(784, 10))\n",
    "\n",
    "def init_weights(m):\n",
    "    if type(m) == nn.Linear:\n",
    "        nn.init.normal_(m.weight, std=0.01)\n",
    "\n",
    "net.apply(init_weights);"
   ]
  },
  {
   "cell_type": "code",
   "execution_count": 7,
   "id": "604a48ff-4cf6-46c9-95bb-69f9ed4c1c53",
   "metadata": {},
   "outputs": [],
   "source": [
    "loss = nn.CrossEntropyLoss(reduction='none')"
   ]
  },
  {
   "cell_type": "markdown",
   "id": "dfceb762-bb64-43cf-8ba8-d400d35d1858",
   "metadata": {},
   "source": [
    "## 3.7.2 优化算法"
   ]
  },
  {
   "cell_type": "code",
   "execution_count": 10,
   "id": "fdaac1d5-aea6-42ba-820d-0427069f08f4",
   "metadata": {},
   "outputs": [],
   "source": [
    "trainer = torch.optim.SGD(net.parameters(), lr=0.1)"
   ]
  },
  {
   "cell_type": "markdown",
   "id": "664be73f-8557-4582-af07-a6321c300beb",
   "metadata": {},
   "source": [
    "## 3.7.3 训练"
   ]
  },
  {
   "cell_type": "code",
   "execution_count": null,
   "id": "d7038b7b-2efe-49de-8870-dc242a494dc7",
   "metadata": {},
   "outputs": [],
   "source": [
    "num_epochs = 10\n",
    "d2l.train_ch3(net, train_iter, test_iter, loss, num_epochs, trainer)"
   ]
  }
 ],
 "metadata": {
  "kernelspec": {
   "display_name": "Python [conda env:base] *",
   "language": "python",
   "name": "conda-base-py"
  },
  "language_info": {
   "codemirror_mode": {
    "name": "ipython",
    "version": 3
   },
   "file_extension": ".py",
   "mimetype": "text/x-python",
   "name": "python",
   "nbconvert_exporter": "python",
   "pygments_lexer": "ipython3",
   "version": "3.12.7"
  }
 },
 "nbformat": 4,
 "nbformat_minor": 5
}
