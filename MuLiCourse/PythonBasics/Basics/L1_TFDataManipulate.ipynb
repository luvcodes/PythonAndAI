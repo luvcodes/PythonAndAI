{
  "nbformat": 4,
  "nbformat_minor": 0,
  "metadata": {
    "colab": {
      "provenance": [],
      "toc_visible": true
    },
    "kernelspec": {
      "name": "python3",
      "display_name": "Python 3"
    },
    "language_info": {
      "name": "python"
    }
  },
  "cells": [
    {
      "cell_type": "markdown",
      "source": [
        "# Data manipulation"
      ],
      "metadata": {
        "id": "UMJ5nuG0D5XJ"
      }
    },
    {
      "cell_type": "markdown",
      "source": [
        "## 2.1.1 shape & reshape"
      ],
      "metadata": {
        "id": "xgO0GM5xF-AR"
      }
    },
    {
      "cell_type": "code",
      "execution_count": null,
      "metadata": {
        "colab": {
          "base_uri": "https://localhost:8080/"
        },
        "id": "4oWQMZ_RB60L",
        "outputId": "20bd0294-3a07-46c2-a24b-421f9fb30811"
      },
      "outputs": [
        {
          "output_type": "execute_result",
          "data": {
            "text/plain": [
              "<tf.Tensor: shape=(12,), dtype=int32, numpy=array([ 0,  1,  2,  3,  4,  5,  6,  7,  8,  9, 10, 11], dtype=int32)>"
            ]
          },
          "metadata": {},
          "execution_count": 5
        }
      ],
      "source": [
        "from re import X\n",
        "import tensorflow as tf\n",
        "\n",
        "x = tf.range(12)\n",
        "x"
      ]
    },
    {
      "cell_type": "markdown",
      "source": [
        "通过`shape`属性可以查看张量tensor的形状, 通过`reshape`可以变换tensor的形状。虽然张量的形状发生了改变，但其元素值并没有变。"
      ],
      "metadata": {
        "id": "my-jUHsCD_fw"
      }
    },
    {
      "cell_type": "code",
      "source": [
        "print('Original shape: ', x.shape)\n",
        "print('Transformed shape: \\n', tf.reshape(x, (3, 4)))"
      ],
      "metadata": {
        "colab": {
          "base_uri": "https://localhost:8080/"
        },
        "id": "tbu6rL3kD9K4",
        "outputId": "4c18a4ea-2ddb-4d63-e9be-de015dca05f7"
      },
      "execution_count": null,
      "outputs": [
        {
          "output_type": "stream",
          "name": "stdout",
          "text": [
            "Original shape:  (12,)\n",
            "Transformed shape: \n",
            " tf.Tensor(\n",
            "[[ 0  1  2  3]\n",
            " [ 4  5  6  7]\n",
            " [ 8  9 10 11]], shape=(3, 4), dtype=int32)\n"
          ]
        },
        {
          "output_type": "execute_result",
          "data": {
            "text/plain": [
              "<tf.Tensor: shape=(12,), dtype=int32, numpy=array([ 0,  1,  2,  3,  4,  5,  6,  7,  8,  9, 10, 11], dtype=int32)>"
            ]
          },
          "metadata": {},
          "execution_count": 12
        }
      ]
    },
    {
      "cell_type": "markdown",
      "source": [
        "手动指定tensor的高度和宽度很费事，所以可以使用-1来代替行或者列，另外一个属性只要指定之后，就可以自动计算出新的tensor尺寸。"
      ],
      "metadata": {
        "id": "78w46jILEyNZ"
      }
    },
    {
      "cell_type": "code",
      "source": [
        "# -1代替指定高度，而知道是3列，所以自然就会计算出是4行\n",
        "tf.reshape(x, (-1, 3))"
      ],
      "metadata": {
        "colab": {
          "base_uri": "https://localhost:8080/"
        },
        "id": "QQLeoml1E9cY",
        "outputId": "e6d347ef-90b7-43f1-da33-85649290f676"
      },
      "execution_count": null,
      "outputs": [
        {
          "output_type": "execute_result",
          "data": {
            "text/plain": [
              "<tf.Tensor: shape=(4, 3), dtype=int32, numpy=\n",
              "array([[ 0,  1,  2],\n",
              "       [ 3,  4,  5],\n",
              "       [ 6,  7,  8],\n",
              "       [ 9, 10, 11]], dtype=int32)>"
            ]
          },
          "metadata": {},
          "execution_count": 14
        }
      ]
    },
    {
      "cell_type": "markdown",
      "source": [
        "创建多维张量"
      ],
      "metadata": {
        "id": "HsLpl16YGBQW"
      }
    },
    {
      "cell_type": "code",
      "source": [
        "tf.zeros((2, 3, 4))"
      ],
      "metadata": {
        "colab": {
          "base_uri": "https://localhost:8080/"
        },
        "id": "7bAMyXGcGT1N",
        "outputId": "9d2c0a24-3278-4cba-d008-a0e431778a4b"
      },
      "execution_count": null,
      "outputs": [
        {
          "output_type": "execute_result",
          "data": {
            "text/plain": [
              "<tf.Tensor: shape=(2, 3, 4), dtype=float32, numpy=\n",
              "array([[[0., 0., 0., 0.],\n",
              "        [0., 0., 0., 0.],\n",
              "        [0., 0., 0., 0.]],\n",
              "\n",
              "       [[0., 0., 0., 0.],\n",
              "        [0., 0., 0., 0.],\n",
              "        [0., 0., 0., 0.]]], dtype=float32)>"
            ]
          },
          "metadata": {},
          "execution_count": 19
        }
      ]
    },
    {
      "cell_type": "code",
      "source": [
        "tf.ones((2, 3, 4))"
      ],
      "metadata": {
        "colab": {
          "base_uri": "https://localhost:8080/"
        },
        "id": "LgedBlzaGV7G",
        "outputId": "f177f26d-aa75-49bb-b153-bc9b4778ac23"
      },
      "execution_count": null,
      "outputs": [
        {
          "output_type": "execute_result",
          "data": {
            "text/plain": [
              "<tf.Tensor: shape=(2, 3, 4), dtype=float32, numpy=\n",
              "array([[[1., 1., 1., 1.],\n",
              "        [1., 1., 1., 1.],\n",
              "        [1., 1., 1., 1.]],\n",
              "\n",
              "       [[1., 1., 1., 1.],\n",
              "        [1., 1., 1., 1.],\n",
              "        [1., 1., 1., 1.]]], dtype=float32)>"
            ]
          },
          "metadata": {},
          "execution_count": 20
        }
      ]
    },
    {
      "cell_type": "markdown",
      "source": [
        "创建随机值填充矩阵"
      ],
      "metadata": {
        "id": "Ioj1i5QDGlvY"
      }
    },
    {
      "cell_type": "code",
      "source": [
        "tf.random.normal(shape=[3, 4])"
      ],
      "metadata": {
        "colab": {
          "base_uri": "https://localhost:8080/"
        },
        "id": "7HYUXp1ZGeGC",
        "outputId": "846392fc-f700-4fc0-e8b7-ed98ba329af1"
      },
      "execution_count": null,
      "outputs": [
        {
          "output_type": "execute_result",
          "data": {
            "text/plain": [
              "<tf.Tensor: shape=(3, 4), dtype=float32, numpy=\n",
              "array([[-0.81721973, -1.2987093 ,  0.44348294,  1.3539954 ],\n",
              "       [ 0.0187675 ,  0.40118602, -0.89959794, -1.3285049 ],\n",
              "       [ 1.1306841 , -0.28963134, -0.6543195 , -2.7716243 ]],\n",
              "      dtype=float32)>"
            ]
          },
          "metadata": {},
          "execution_count": 21
        }
      ]
    },
    {
      "cell_type": "markdown",
      "source": [
        "为元素赋予常量值"
      ],
      "metadata": {
        "id": "NvjujXvtGraE"
      }
    },
    {
      "cell_type": "code",
      "source": [
        "tf.constant([[2, 1, 4, 3], [1, 2, 3, 4], [4, 3, 2, 1]])"
      ],
      "metadata": {
        "id": "YVDhxdBPGttV",
        "outputId": "1d8f1c9b-c318-460b-c425-145a328ec800",
        "colab": {
          "base_uri": "https://localhost:8080/"
        }
      },
      "execution_count": null,
      "outputs": [
        {
          "output_type": "execute_result",
          "data": {
            "text/plain": [
              "<tf.Tensor: shape=(3, 4), dtype=int32, numpy=\n",
              "array([[2, 1, 4, 3],\n",
              "       [1, 2, 3, 4],\n",
              "       [4, 3, 2, 1]], dtype=int32)>"
            ]
          },
          "metadata": {},
          "execution_count": 22
        }
      ]
    },
    {
      "cell_type": "markdown",
      "source": [
        "## 2.1.2 运算符"
      ],
      "metadata": {
        "id": "Q6BZcwNSP0p0"
      }
    },
    {
      "cell_type": "code",
      "source": [
        "x = tf.constant([1.0, 2, 4, 8])\n",
        "y = tf.constant([2.0, 2, 2, 2])\n",
        "x + y, x - y, x * y, x / y, x ** y, tf.exp(x) # exp() 求幂"
      ],
      "metadata": {
        "colab": {
          "base_uri": "https://localhost:8080/"
        },
        "id": "I6f1IcTWP5ta",
        "outputId": "fee5e1d6-101a-41be-d156-d9b4de3c0ed8"
      },
      "execution_count": 24,
      "outputs": [
        {
          "output_type": "execute_result",
          "data": {
            "text/plain": [
              "(<tf.Tensor: shape=(4,), dtype=float32, numpy=array([ 3.,  4.,  6., 10.], dtype=float32)>,\n",
              " <tf.Tensor: shape=(4,), dtype=float32, numpy=array([-1.,  0.,  2.,  6.], dtype=float32)>,\n",
              " <tf.Tensor: shape=(4,), dtype=float32, numpy=array([ 2.,  4.,  8., 16.], dtype=float32)>,\n",
              " <tf.Tensor: shape=(4,), dtype=float32, numpy=array([0.5, 1. , 2. , 4. ], dtype=float32)>,\n",
              " <tf.Tensor: shape=(4,), dtype=float32, numpy=array([ 1.,  4., 16., 64.], dtype=float32)>,\n",
              " <tf.Tensor: shape=(4,), dtype=float32, numpy=\n",
              " array([2.7182817e+00, 7.3890562e+00, 5.4598148e+01, 2.9809580e+03],\n",
              "       dtype=float32)>)"
            ]
          },
          "metadata": {},
          "execution_count": 24
        }
      ]
    },
    {
      "cell_type": "markdown",
      "source": [
        "张量连结concatenation, `axis=0`是按行连结，`axis=1`是按列连结。"
      ],
      "metadata": {
        "id": "atYFkAhwRhtJ"
      }
    },
    {
      "cell_type": "code",
      "source": [
        "X = tf.reshape(tf.range(12, dtype=tf.float32), (3, 4))\n",
        "Y = tf.constant([[2.0, 1, 4, 3], [1, 2, 3, 4], [4, 3, 2, 1]])\n",
        "# 进行张量连结\n",
        "tf.concat([X, Y], axis=0), tf.concat([X, Y], axis=1), X == Y, tf.reduce_sum(X), tf.reduce_sum(Y)"
      ],
      "metadata": {
        "colab": {
          "base_uri": "https://localhost:8080/"
        },
        "id": "sbBA6HpvRkZs",
        "outputId": "c6396325-2f68-4271-acc0-eeed95bb1e7d"
      },
      "execution_count": 35,
      "outputs": [
        {
          "output_type": "execute_result",
          "data": {
            "text/plain": [
              "(<tf.Tensor: shape=(6, 4), dtype=float32, numpy=\n",
              " array([[ 0.,  1.,  2.,  3.],\n",
              "        [ 4.,  5.,  6.,  7.],\n",
              "        [ 8.,  9., 10., 11.],\n",
              "        [ 2.,  1.,  4.,  3.],\n",
              "        [ 1.,  2.,  3.,  4.],\n",
              "        [ 4.,  3.,  2.,  1.]], dtype=float32)>,\n",
              " <tf.Tensor: shape=(3, 8), dtype=float32, numpy=\n",
              " array([[ 0.,  1.,  2.,  3.,  2.,  1.,  4.,  3.],\n",
              "        [ 4.,  5.,  6.,  7.,  1.,  2.,  3.,  4.],\n",
              "        [ 8.,  9., 10., 11.,  4.,  3.,  2.,  1.]], dtype=float32)>,\n",
              " <tf.Tensor: shape=(3, 4), dtype=bool, numpy=\n",
              " array([[False,  True, False,  True],\n",
              "        [False, False, False, False],\n",
              "        [False, False, False, False]])>,\n",
              " <tf.Tensor: shape=(), dtype=float32, numpy=66.0>,\n",
              " <tf.Tensor: shape=(), dtype=float32, numpy=30.0>)"
            ]
          },
          "metadata": {},
          "execution_count": 35
        }
      ]
    },
    {
      "cell_type": "markdown",
      "source": [
        "## 2.1.3 广播机制\n",
        "在上面的部分中，我们看到了如何在相同形状的两个张量上执行按元素操作。 在某些情况下，即使形状不同，我们仍然可以通过调用 广播机制（broadcasting mechanism）来执行按元素操作。\n",
        "1. 通过适当复制元素来扩展一个或两个数组，以便在转换之后，两个张量具有相同的形状；\n",
        "2. 对生成的数组执行按元素操作。"
      ],
      "metadata": {
        "id": "5D6gDU_mYRJH"
      }
    },
    {
      "cell_type": "code",
      "source": [
        "a = tf.reshape(tf.range(6), (6, 1)) # 复制列\n",
        "b = tf.reshape(tf.range(4), (1, 4)) # 复制行\n",
        "a, b, a + b"
      ],
      "metadata": {
        "colab": {
          "base_uri": "https://localhost:8080/"
        },
        "id": "Mi6SuyqnX1wf",
        "outputId": "38364666-54d4-466b-92d2-2ce040318f5c"
      },
      "execution_count": 41,
      "outputs": [
        {
          "output_type": "execute_result",
          "data": {
            "text/plain": [
              "(<tf.Tensor: shape=(6, 1), dtype=int32, numpy=\n",
              " array([[0],\n",
              "        [1],\n",
              "        [2],\n",
              "        [3],\n",
              "        [4],\n",
              "        [5]], dtype=int32)>,\n",
              " <tf.Tensor: shape=(1, 4), dtype=int32, numpy=array([[0, 1, 2, 3]], dtype=int32)>,\n",
              " <tf.Tensor: shape=(6, 4), dtype=int32, numpy=\n",
              " array([[0, 1, 2, 3],\n",
              "        [1, 2, 3, 4],\n",
              "        [2, 3, 4, 5],\n",
              "        [3, 4, 5, 6],\n",
              "        [4, 5, 6, 7],\n",
              "        [5, 6, 7, 8]], dtype=int32)>)"
            ]
          },
          "metadata": {},
          "execution_count": 41
        }
      ]
    },
    {
      "cell_type": "markdown",
      "source": [
        "## 2.1.4 索引和切片"
      ],
      "metadata": {
        "id": "K-8KE0dFZij8"
      }
    },
    {
      "cell_type": "code",
      "source": [
        "c = tf.reshape(tf.range(12, dtype=tf.float32), (3, 4))\n",
        "c[-1], c[1:3]"
      ],
      "metadata": {
        "colab": {
          "base_uri": "https://localhost:8080/"
        },
        "id": "kIx0e2LAZlSm",
        "outputId": "899a35a5-9b91-4ecf-b69d-617e764c2d4d"
      },
      "execution_count": 44,
      "outputs": [
        {
          "output_type": "execute_result",
          "data": {
            "text/plain": [
              "(<tf.Tensor: shape=(4,), dtype=float32, numpy=array([ 8.,  9., 10., 11.], dtype=float32)>,\n",
              " <tf.Tensor: shape=(2, 4), dtype=float32, numpy=\n",
              " array([[ 4.,  5.,  6.,  7.],\n",
              "        [ 8.,  9., 10., 11.]], dtype=float32)>)"
            ]
          },
          "metadata": {},
          "execution_count": 44
        }
      ]
    },
    {
      "cell_type": "markdown",
      "source": [
        "## 2.1.5 转换为其他python对象"
      ],
      "metadata": {
        "id": "wvzNKFMcazZQ"
      }
    },
    {
      "cell_type": "code",
      "source": [
        "# 转换tensor到Numpy array\n",
        "A = c.numpy()\n",
        "B = tf.constant(A)\n",
        "type(A), type(B)"
      ],
      "metadata": {
        "colab": {
          "base_uri": "https://localhost:8080/"
        },
        "id": "xB7O13MOa2W2",
        "outputId": "b4bf3cfe-1d2e-4c40-8a2d-06cee9c76221"
      },
      "execution_count": 46,
      "outputs": [
        {
          "output_type": "execute_result",
          "data": {
            "text/plain": [
              "(numpy.ndarray, tensorflow.python.framework.ops.EagerTensor)"
            ]
          },
          "metadata": {},
          "execution_count": 46
        }
      ]
    },
    {
      "cell_type": "markdown",
      "source": [
        "要将大小为1的张量转换为Python标量，我们可以调用item函数或Python的内置函数。\n",
        "要使用`item()`必须要转成`numpy`或者是python标准类型"
      ],
      "metadata": {
        "id": "3gYHtVRibPj0"
      }
    },
    {
      "cell_type": "code",
      "source": [
        "d = tf.constant([3.5]).numpy()\n",
        "d, d.item(), float(d), int(d)"
      ],
      "metadata": {
        "colab": {
          "base_uri": "https://localhost:8080/"
        },
        "id": "lGWFwHf8bQLD",
        "outputId": "1ab38d5e-6a28-49e6-f41e-61893da8c735"
      },
      "execution_count": 49,
      "outputs": [
        {
          "output_type": "stream",
          "name": "stderr",
          "text": [
            "<ipython-input-49-81cc17da103f>:2: DeprecationWarning: Conversion of an array with ndim > 0 to a scalar is deprecated, and will error in future. Ensure you extract a single element from your array before performing this operation. (Deprecated NumPy 1.25.)\n",
            "  d, float(d), int(d)\n"
          ]
        },
        {
          "output_type": "execute_result",
          "data": {
            "text/plain": [
              "(array([3.5], dtype=float32), 3.5, 3)"
            ]
          },
          "metadata": {},
          "execution_count": 49
        }
      ]
    }
  ]
}