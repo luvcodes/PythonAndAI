{
  "cells": [
    {
      "cell_type": "markdown",
      "metadata": {
        "id": "3G9ulcitPgh4"
      },
      "source": [
        "# 3.2 线性回归的简单实现\n"
      ]
    },
    {
      "cell_type": "markdown",
      "metadata": {
        "id": "WCJR2IuRPgh4"
      },
      "source": [
        "## 3.2.1 生成数据集"
      ]
    },
    {
      "cell_type": "code",
      "execution_count": null,
      "metadata": {
        "colab": {
          "base_uri": "https://localhost:8080/",
          "height": 484
        },
        "id": "xVtTXt4UPgh4",
        "outputId": "5f0829b8-61af-4610-8fc4-cd69e0c54b7a"
      },
      "outputs": [
        {
          "output_type": "stream",
          "name": "stdout",
          "text": [
            "features: tensor([-1.0034, -1.0650]) \n",
            "label: tensor([5.8186])\n"
          ]
        },
        {
          "output_type": "execute_result",
          "data": {
            "text/plain": [
              "<matplotlib.collections.PathCollection at 0x7916c52d0750>"
            ]
          },
          "metadata": {},
          "execution_count": 4
        },
        {
          "output_type": "display_data",
          "data": {
            "text/plain": [
              "<Figure size 640x480 with 1 Axes>"
            ],
            "image/png": "[encoded data removed]"
          },
          "metadata": {}
        }
      ],
      "source": [
        "import random\n",
        "import torch\n",
        "import numpy as np\n",
        "import matplotlib.pyplot as plt\n",
        "\n",
        "def synthetic_data(w, b, num_examples):\n",
        "    \"\"\"生成y=Xw+b+噪声\"\"\"\n",
        "    X = torch.normal(0, 1, (num_examples, len(w)))\n",
        "    y = torch.matmul(X, w) + b\n",
        "    y += torch.normal(0, 0.01, y.shape)\n",
        "    return X, y.reshape((-1, 1))\n",
        "\n",
        "true_w = torch.tensor([2, -3.4])\n",
        "true_b = 4.2\n",
        "features, labels = synthetic_data(true_w, true_b, 1000)\n",
        "\n",
        "print('features:', features[0],'\\nlabel:', labels[0])\n",
        "plt.scatter(features[:, (1)].detach().numpy(), labels.detach().numpy(), 1)"
      ]
    },
    {
      "cell_type": "markdown",
      "metadata": {
        "id": "Jn1Vj4joPgh5"
      },
      "source": [
        "## 3.2.2 读取数据集"
      ]
    },
    {
      "cell_type": "code",
      "execution_count": null,
      "metadata": {
        "colab": {
          "base_uri": "https://localhost:8080/"
        },
        "id": "E6p1MkWWPgh5",
        "outputId": "5934a3ce-c16c-4304-bd73-53a67a063587"
      },
      "outputs": [
        {
          "output_type": "stream",
          "name": "stdout",
          "text": [
            "tensor([[-2.4260, -0.1691],\n",
            "        [-2.0572,  1.8946],\n",
            "        [-0.6723,  0.6083],\n",
            "        [ 0.9020, -0.0392],\n",
            "        [ 1.3948, -0.1125],\n",
            "        [-0.5032,  0.1308],\n",
            "        [ 1.6096,  0.7931],\n",
            "        [ 1.1576, -1.2301],\n",
            "        [-1.0754,  0.3189],\n",
            "        [-1.6812,  2.3356]]) \n",
            " tensor([[-0.0786],\n",
            "        [-6.3633],\n",
            "        [ 0.8016],\n",
            "        [ 6.1359],\n",
            "        [ 7.3715],\n",
            "        [ 2.7499],\n",
            "        [ 4.7193],\n",
            "        [10.7121],\n",
            "        [ 0.9633],\n",
            "        [-7.0936]])\n"
          ]
        }
      ],
      "source": [
        "def data_iter(batch_size, features, labels):\n",
        "    num_examples = len(features)\n",
        "    indices = list(range(num_examples))\n",
        "    # 这些样本是随机读取的，没有特定的顺序\n",
        "    random.shuffle(indices)\n",
        "    for i in range(0, num_examples, batch_size):\n",
        "        batch_indices = np.array(\n",
        "            indices[i: min(i + batch_size, num_examples)])\n",
        "        yield features[batch_indices], labels[batch_indices]\n",
        "\n",
        "\n",
        "batch_size = 10\n",
        "\n",
        "for X, y in data_iter(batch_size, features, labels):\n",
        "    print(X, '\\n', y)\n",
        "    break"
      ]
    },
    {
      "cell_type": "markdown",
      "metadata": {
        "id": "lSiiIAdpPgh5"
      },
      "source": [
        "## 3.2.3 初始化模型参数\n",
        "在我们开始用小批量随机梯度下降优化我们的模型参数之前， 我们需要先有一些参数。   \n",
        "在下面的代码中，我们通过从均值为0、标准差为0.01的正态分布中采样随机数来初始化权重， 并将偏置初始化为0。   \n",
        "在初始化参数之后，我们的任务是更新这些参数，直到这些参数足够拟合我们的数据。 每次更新都需要计算损失函数关于模型参数的梯度。 有了这个梯度，我们就可以向减小损失的方向更新每个参数。"
      ]
    },
    {
      "cell_type": "code",
      "execution_count": null,
      "metadata": {
        "id": "gi6kRgqpPgh5"
      },
      "outputs": [],
      "source": [
        "w = torch.normal(0, 0.01, size=(2,1), requires_grad=True)\n",
        "b = torch.zeros(1, requires_grad=True)"
      ]
    },
    {
      "cell_type": "markdown",
      "source": [
        "## 3.2.4 定义初始模型"
      ],
      "metadata": {
        "id": "A_iBFTEaWUcU"
      }
    },
    {
      "cell_type": "code",
      "source": [
        "def linreg(X, w, b):\n",
        "    \"\"\"线性回归模型\"\"\"\n",
        "    return torch.matmul(X, w) + b"
      ],
      "metadata": {
        "id": "E-4hE0xBWJzR"
      },
      "execution_count": null,
      "outputs": []
    },
    {
      "cell_type": "markdown",
      "source": [
        "## 3.2.5 定义损失函数"
      ],
      "metadata": {
        "id": "rFezzdmHWatE"
      }
    },
    {
      "cell_type": "code",
      "source": [
        "def squared_loss(y_hat, y):\n",
        "    \"\"\"均方损失\"\"\"\n",
        "    return (y_hat - y.reshape(y_hat.shape)) ** 2 / 2"
      ],
      "metadata": {
        "id": "6E7GlAwSWenz"
      },
      "execution_count": null,
      "outputs": []
    },
    {
      "cell_type": "markdown",
      "source": [
        "## 3.2.6 定义优化算法\n",
        "在每一步中，使用从数据集中随机抽取的一个小批量，然后根据参数计算损失的梯度。 接下来，朝着减少损失的方向更新我们的参数。"
      ],
      "metadata": {
        "id": "ZRqTmCC7W6-n"
      }
    },
    {
      "cell_type": "code",
      "source": [
        "def sgd(params, lr, batch_size):\n",
        "    \"\"\"小批量随机梯度下降\"\"\"\n",
        "    with torch.no_grad():\n",
        "        for param in params:\n",
        "            param -= lr * param.grad / batch_size\n",
        "            param.grad.zero_()"
      ],
      "metadata": {
        "id": "clH_G7djW9QM"
      },
      "execution_count": 14,
      "outputs": []
    },
    {
      "cell_type": "markdown",
      "source": [
        "## 3.2.7 实现训练\n",
        "在每次迭代中，我们读取一小批量训练样本，并通过我们的模型来获得一组预测。 计算完损失后，我们开始反向传播，存储每个参数的梯度。 最后，我们调用优化算法sgd来更新模型参数。"
      ],
      "metadata": {
        "id": "Z-EtaBbFX3E9"
      }
    },
    {
      "cell_type": "code",
      "source": [
        "lr = 0.03\n",
        "num_epochs = 3\n",
        "net = linreg\n",
        "loss = squared_loss\n",
        "\n",
        "for epoch in range(num_epochs):\n",
        "    for X, y in data_iter(batch_size, features, labels):\n",
        "        l = loss(net(X, w, b), y)  # X和y的小批量损失\n",
        "        # 因为l形状是(batch_size,1)，而不是一个标量。l中的所有元素被加到一起，\n",
        "        # 并以此计算关于[w,b]的梯度\n",
        "        l.sum().backward()\n",
        "        sgd([w, b], lr, batch_size)  # 使用参数的梯度更新参数\n",
        "    with torch.no_grad():\n",
        "        train_l = loss(net(features, w, b), labels)\n",
        "        print(f'epoch {epoch + 1}, loss {float(train_l.mean()):f}')"
      ],
      "metadata": {
        "colab": {
          "base_uri": "https://localhost:8080/"
        },
        "id": "kIjjQXi5X8m_",
        "outputId": "3a151052-6189-44bd-84d4-7170e1c6ce71"
      },
      "execution_count": 15,
      "outputs": [
        {
          "output_type": "stream",
          "name": "stdout",
          "text": [
            "epoch 1, loss 0.037131\n",
            "epoch 2, loss 0.000141\n",
            "epoch 3, loss 0.000049\n"
          ]
        }
      ]
    },
    {
      "cell_type": "code",
      "source": [
        "print(f'w的估计误差: {true_w - w.reshape(true_w.shape)}')\n",
        "print(f'b的估计误差: {true_b - b}')"
      ],
      "metadata": {
        "colab": {
          "base_uri": "https://localhost:8080/"
        },
        "id": "EA-_UfxvYdV4",
        "outputId": "765bfeac-0d6e-49eb-8dd7-9cd420bd4752"
      },
      "execution_count": 16,
      "outputs": [
        {
          "output_type": "stream",
          "name": "stdout",
          "text": [
            "w的估计误差: tensor([5.5313e-04, 9.0837e-05], grad_fn=<SubBackward0>)\n",
            "b的估计误差: tensor([0.0003], grad_fn=<RsubBackward1>)\n"
          ]
        }
      ]
    }
  ],
  "metadata": {
    "kernelspec": {
      "display_name": "Python 3 (ipykernel)",
      "language": "python",
      "name": "python3"
    },
    "language_info": {
      "codemirror_mode": {
        "name": "ipython",
        "version": 3
      },
      "file_extension": ".py",
      "mimetype": "text/x-python",
      "name": "python",
      "nbconvert_exporter": "python",
      "pygments_lexer": "ipython3",
      "version": "3.11.7"
    },
    "colab": {
      "provenance": [],
      "toc_visible": true
    }
  },
  "nbformat": 4,
  "nbformat_minor": 0
}