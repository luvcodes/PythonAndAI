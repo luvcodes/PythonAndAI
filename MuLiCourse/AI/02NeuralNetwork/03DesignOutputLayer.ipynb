{
 "cells": [
  {
   "cell_type": "markdown",
   "metadata": {},
   "source": [
    "# 设计输出函数\n",
    "回归问题用恒等函数，分类问题用softmax函数。\n",
    "\n",
    "恒等函数会将输入按原样输出，对于输入的信息，不加以任何改动地直接输出。因此，在输出层使用恒等函数时，输入信号会原封不动地被输出。\n",
    "\n",
    "分类问题中使用的softmax函数可以用下面的式表示。"
   ]
  },
  {
   "cell_type": "code",
   "execution_count": 4,
   "metadata": {},
   "outputs": [
    {
     "name": "stdout",
     "output_type": "stream",
     "text": [
      "[0.01821127 0.24519181 0.73659691]\n",
      "1.0\n"
     ]
    }
   ],
   "source": [
    "import numpy as np\n",
    "\n",
    "# softmax函数\n",
    "# def softmax(a):\n",
    "#     exp_a = np.exp(a)\n",
    "#     sum_exp_a = np.sum(exp_a)\n",
    "#     y = exp_a / sum_exp_a\n",
    "#     return y\n",
    "\n",
    "# 更新softmax函数版本\n",
    "def softmax(a):\n",
    "    c = np.max(a)\n",
    "    exp_a = np.exp(a - c)  # 溢出对策\n",
    "    sum_exp_a = np.sum(exp_a)\n",
    "    y = exp_a / sum_exp_a\n",
    "    return y\n",
    "\n",
    "# 使用softmax函数来计算神经网络的输出层\n",
    "a = np.array([0.3, 2.9, 4.0])\n",
    "y = softmax(a)\n",
    "print(y)\n",
    "print(np.sum(y))  # softmax函数的输出是0.0到1.0之间的实数，且总和为1"
   ]
  }
 ],
 "metadata": {
  "kernelspec": {
   "display_name": "base",
   "language": "python",
   "name": "python3"
  },
  "language_info": {
   "codemirror_mode": {
    "name": "ipython",
    "version": 3
   },
   "file_extension": ".py",
   "mimetype": "text/x-python",
   "name": "python",
   "nbconvert_exporter": "python",
   "pygments_lexer": "ipython3",
   "version": "3.11.7"
  }
 },
 "nbformat": 4,
 "nbformat_minor": 2
}
