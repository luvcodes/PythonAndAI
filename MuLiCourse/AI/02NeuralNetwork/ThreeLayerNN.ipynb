{
 "cells": [
  {
   "cell_type": "markdown",
   "metadata": {},
   "source": [
    "# 三层神经网络的实现\n",
    "\n",
    "## 原理\n",
    "<img src=\"../../data/images/Snipaste_2024-12-27_20-19-44.png\" alt=\"三层神经网络\" width=\"400\">\n",
    "\n",
    "\n",
    "$$\n",
    "a_1^{(1)} = w_{11}^{(1)}x_1 + w_{12}^{(1)}x_2 + b_1^{(1)}\n",
    "$$\n",
    "\n",
    "计算神经网络的算式。\n",
    "\n",
    "下面是使用矩阵的乘法运算来计算：\n",
    "\n",
    "$$\n",
    "A^{(1)} = XW^{(1)} + B^{(1)}\n",
    "$$\n",
    "\n",
    "其中：\n",
    "\n",
    "$$\n",
    "A^{(1)} = \\begin{pmatrix} a_1^{(1)} & a_2^{(1)} & a_3^{(1)} \\end{pmatrix}, \\quad \n",
    "X = \\begin{pmatrix} x_1 & x_2 \\end{pmatrix}, \\quad \n",
    "B^{(1)} = \\begin{pmatrix} b_1^{(1)} & b_2^{(1)} & b_3^{(1)} \\end{pmatrix}, \\quad \n",
    "W^{(1)} = \\begin{pmatrix} \n",
    "w_{11}^{(1)} & w_{21}^{(1)} & w_{31}^{(1)} \\\\ \n",
    "w_{12}^{(1)} & w_{22}^{(1)} & w_{32}^{(1)} \n",
    "\\end{pmatrix}.\n",
    "$$\n"
   ]
  },
  {
   "cell_type": "markdown",
   "metadata": {},
   "source": [
    "## 输入层到第一层\n",
    "\n",
    "输入层到第一层的信号传递图片模拟：\n",
    "\n",
    "<img src=\"../../data/images/Snipaste_2024-12-27_20-25-50.png\" alt=\"输入层到第一层信号传递\" width=\"500\">\n",
    "\n",
    "这里的激活函数`h(x)`就用了sigmoid函数\n"
   ]
  },
  {
   "cell_type": "code",
   "execution_count": 2,
   "metadata": {},
   "outputs": [
    {
     "name": "stdout",
     "output_type": "stream",
     "text": [
      "(2,)\n",
      "(2, 3)\n",
      "(3,)\n"
     ]
    }
   ],
   "source": [
    "import numpy as np\n",
    "\n",
    "# 用这种方式表示上方的三层神经网络\n",
    "X = np.array([1.0, 0.5])\n",
    "W1 = np.array([[0.1, 0.3, 0.5], [0.2, 0.4, 0.6]])\n",
    "B1 = np.array([0.1, 0.2, 0.3])\n",
    "\n",
    "print(X.shape)\n",
    "print(W1.shape)\n",
    "print(B1.shape)\n",
    "\n",
    "# 使用公式计算\n",
    "A1 = np.dot(X, W1) + B1"
   ]
  },
  {
   "cell_type": "code",
   "execution_count": 6,
   "metadata": {},
   "outputs": [
    {
     "name": "stdout",
     "output_type": "stream",
     "text": [
      "A1: [0.3 0.7 1.1]\n",
      "Z1: [0.57444252 0.66818777 0.75026011]\n"
     ]
    }
   ],
   "source": [
    "def sigmoid(x):\n",
    "    return 1 / (1 + np.exp(-x))\n",
    "\n",
    "# 实现输入层到第一层的信号模拟\n",
    "Z1 = sigmoid(A1)\n",
    "print(\"A1:\", A1)\n",
    "print(\"Z1:\", Z1)"
   ]
  },
  {
   "cell_type": "markdown",
   "metadata": {},
   "source": [
    "## 第一层到第二层的信号传递\n",
    "\n",
    "实现第一层到第二层的信号传递\n",
    "\n",
    "<img src=\"../../data/images/Snipaste_2024-12-27_20-37-53.png\" alt=\"第一层到第二层\" width=\"400\">"
   ]
  },
  {
   "cell_type": "code",
   "execution_count": 8,
   "metadata": {},
   "outputs": [
    {
     "name": "stdout",
     "output_type": "stream",
     "text": [
      "(3,)\n",
      "(3, 2)\n",
      "(2,)\n"
     ]
    }
   ],
   "source": [
    "W2 = np.array([[0.1, 0.4], [0.2, 0.5], [0.3, 0.6]])\n",
    "B2 = np.array([0.1, 0.2])\n",
    "\n",
    "print(Z1.shape)  # (3,)\n",
    "print(W2.shape)  # (3, 2)\n",
    "print(B2.shape)  # (2,)\n",
    "\n",
    "A2 = np.dot(Z1, W2) + B2\n",
    "Z2 = sigmoid(A2)\n"
   ]
  },
  {
   "cell_type": "markdown",
   "metadata": {},
   "source": [
    "## 第二层到输出层\n",
    "\n",
    "<img src=\"../../data/images/Snipaste_2024-12-27_20-41-49.png\" alt=\"第一层到第二层\" width=\"400\">\n",
    "\n",
    "这里我们定义了identity_function()函数（也称为“恒等函数”），并将其作为输出层的激活函数。恒等函数会将输入按原样输出，因此，这个例子中没有必要特意定义identity_function()。这里这样实现只是为了和之前的流程保持统一。   \n",
    "\n",
    "输出层的激活函数具有针对性如下：回归问题可以使用恒等函数，二元分类问题可以使用sigmoid 函数，多元分类问题可以使用softmax 函数。"
   ]
  },
  {
   "cell_type": "code",
   "execution_count": 9,
   "metadata": {},
   "outputs": [],
   "source": [
    "def identity_function(x):\n",
    "    return x\n",
    "\n",
    "W3 = np.array([[0.1, 0.3], [0.2, 0.4]])\n",
    "B3 = np.array([0.1, 0.2])\n",
    "\n",
    "A3 = np.dot(Z2, W3) + B3\n",
    "Y = identity_function(A3)  # 或者 Y = A3"
   ]
  },
  {
   "cell_type": "markdown",
   "metadata": {},
   "source": [
    "# 最终版本"
   ]
  },
  {
   "cell_type": "code",
   "execution_count": 11,
   "metadata": {},
   "outputs": [
    {
     "name": "stdout",
     "output_type": "stream",
     "text": [
      "[0.31682708 0.69627909]\n"
     ]
    }
   ],
   "source": [
    "def init_network():\n",
    "    network = {}\n",
    "    # 确定第一层的权重和偏置\n",
    "    network['W1'] = np.array([[0.1, 0.3, 0.5], [0.2, 0.4, 0.6]])\n",
    "    network['B1'] = np.array([0.1, 0.2, 0.3])\n",
    "    # 确定第二层的权重和偏置\n",
    "    network['W2'] = np.array([[0.1, 0.4], [0.2, 0.5], [0.3, 0.6]])\n",
    "    network['B2'] = np.array([0.1, 0.2])\n",
    "    # 确定第三层的权重和偏置\n",
    "    network['W3'] = np.array([[0.1, 0.3], [0.2, 0.4]])\n",
    "    network['B3'] = np.array([0.1, 0.2])\n",
    "    \n",
    "    return network\n",
    "\n",
    "\n",
    "def forward(network, x):\n",
    "    W1, W2, W3 = network['W1'], network['W2'], network['W3']\n",
    "    B1, B2, B3 = network['B1'], network['B2'], network['B3']\n",
    "    \n",
    "    a1 = np.dot(x, W1) + B1\n",
    "    z1 = sigmoid(a1)\n",
    "    a2 = np.dot(z1, W2) + B2\n",
    "    z2 = sigmoid(a2)\n",
    "    a3 = np.dot(z2, W3) + B3\n",
    "    z3 = identity_function(a3)\n",
    "    \n",
    "    # 最终输出结果\n",
    "    return z3\n",
    "\n",
    "\n",
    "network = init_network()\n",
    "x = np.array([1.0, 0.5])\n",
    "y = forward(network, x)\n",
    "print(y) # [ 0.31682708 0.69627909]"
   ]
  }
 ],
 "metadata": {
  "kernelspec": {
   "display_name": "base",
   "language": "python",
   "name": "python3"
  },
  "language_info": {
   "codemirror_mode": {
    "name": "ipython",
    "version": 3
   },
   "file_extension": ".py",
   "mimetype": "text/x-python",
   "name": "python",
   "nbconvert_exporter": "python",
   "pygments_lexer": "ipython3",
   "version": "3.11.7"
  }
 },
 "nbformat": 4,
 "nbformat_minor": 2
}
